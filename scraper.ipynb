{
 "cells": [
  {
   "cell_type": "code",
   "execution_count": 1,
   "id": "929a2968",
   "metadata": {},
   "outputs": [],
   "source": [
    "from bs4 import BeautifulSoup\n",
    "import requests\n",
    "import re\n",
    "from selenium import webdriver"
   ]
  },
  {
   "cell_type": "code",
   "execution_count": 2,
   "id": "c127db28",
   "metadata": {},
   "outputs": [
    {
     "name": "stderr",
     "output_type": "stream",
     "text": [
      "c:\\users\\work\\anaconda3\\envs\\kia\\lib\\site-packages\\ipykernel_launcher.py:1: DeprecationWarning: executable_path has been deprecated, please pass in a Service object\n",
      "  \"\"\"Entry point for launching an IPython kernel.\n"
     ]
    }
   ],
   "source": [
    "browser = webdriver.Firefox(executable_path=\"webdriver/geckodriver.exe\")"
   ]
  },
  {
   "cell_type": "code",
   "execution_count": 2,
   "id": "dbe5a684",
   "metadata": {},
   "outputs": [
    {
     "name": "stderr",
     "output_type": "stream",
     "text": [
      "c:\\users\\work\\anaconda3\\envs\\kia\\lib\\site-packages\\ipykernel_launcher.py:1: DeprecationWarning: executable_path has been deprecated, please pass in a Service object\n",
      "  \"\"\"Entry point for launching an IPython kernel.\n"
     ]
    }
   ],
   "source": [
    "browser = webdriver.Chrome(\"webdriver/chromedriver.exe\")"
   ]
  },
  {
   "cell_type": "code",
   "execution_count": 6,
   "id": "7ebfe888",
   "metadata": {},
   "outputs": [],
   "source": [
    "main_url = 'https://edition.cnn.com'\n",
    "# r = requests.get(url)\n",
    "browser.implicitly_wait(5)\n",
    "browser.get(main_url)\n",
    "browser.execute_script(\"window.scrollTo(0, document.body.scrollHeight);\")"
   ]
  },
  {
   "cell_type": "code",
   "execution_count": 7,
   "id": "be6d6209",
   "metadata": {},
   "outputs": [],
   "source": [
    "main_html = browser.page_source\n",
    "main_soup = BeautifulSoup(main_html)"
   ]
  },
  {
   "cell_type": "code",
   "execution_count": 8,
   "id": "afc4387a",
   "metadata": {},
   "outputs": [
    {
     "name": "stdout",
     "output_type": "stream",
     "text": [
      "[INFO] Scraping categories and sub-categories ...\n",
      "[INFO] found 13 categories: ['World', 'US Politics', 'Business', 'Health', 'Entertainment', 'Tech', 'Style', 'Travel', 'Sports', 'Videos', 'Features', 'Weather', 'More']\n"
     ]
    }
   ],
   "source": [
    "print(\"[INFO] Scraping categories and sub-categories ...\")\n",
    "list_cat_tag = main_soup.find_all(\"a\",class_=\"sc-fjdhpX sc-chPdSV hnOkcW\")\n",
    "dict_cat_profile = {}\n",
    "for i, cat in enumerate(list_cat_tag):\n",
    "    if cat.text in dict_cat_profile.keys():\n",
    "        continue\n",
    "    cat_profile = {}\n",
    "    cat_profile[\"url\"] = cat[\"href\"]\n",
    "    \n",
    "    subcat_tags = cat.find_next_sibling('ul')\n",
    "    subcats = subcat_tags.find_all(\"a\")\n",
    "    list_subcat_href = {}\n",
    "    for subcat in subcats:\n",
    "        list_subcat_href[subcat.text]=subcat[\"href\"]\n",
    "        \n",
    "    cat_profile[\"subcat\"] = list_subcat_href\n",
    "    \n",
    "    dict_cat_profile[cat.text] = cat_profile\n",
    "\n",
    "print(f\"[INFO] found {len(dict_cat_profile)} categories: {[k for k in dict_cat_profile.keys()]}\")"
   ]
  },
  {
   "cell_type": "code",
   "execution_count": 9,
   "id": "4315dda9",
   "metadata": {
    "scrolled": true
   },
   "outputs": [
    {
     "data": {
      "text/plain": [
       "{'World': {'url': '/world',\n",
       "  'subcat': {'Africa': '/africa',\n",
       "   'Americas': '/americas',\n",
       "   'Asia': '/asia',\n",
       "   'Australia': '/australia',\n",
       "   'China': '/china',\n",
       "   'Europe': '/europe',\n",
       "   'India': '/india',\n",
       "   'Middle East': '/middle-east',\n",
       "   'United Kingdom': '/uk'}},\n",
       " 'US Politics': {'url': '/politics',\n",
       "  'subcat': {'The Biden Presidency': '/specials/politics/joe-biden-news',\n",
       "   'Facts First': '/specials/politics/fact-check-politics',\n",
       "   'US Elections': '/election/2022'}},\n",
       " 'Business': {'url': '/business',\n",
       "  'subcat': {'Markets': 'https://money.cnn.com/data/markets/',\n",
       "   'Tech': '/business/tech',\n",
       "   'Media': '/business/media',\n",
       "   'Success': '/business/success',\n",
       "   'Perspectives': '/business/perspectives',\n",
       "   'Videos': '/business/videos'}},\n",
       " 'Health': {'url': '/health',\n",
       "  'subcat': {'Life, But Better': '/specials/health/life-but-better',\n",
       "   'Fitness': '/specials/health/fitness-life-but-better',\n",
       "   'Food': '/specials/health/food-life-but-better',\n",
       "   'Sleep': '/specials/health/sleep-life-but-better',\n",
       "   'Mindfulness': '/specials/health/mindfulness-life-but-better',\n",
       "   'Relationships': '/specials/health/relationships-life-but-better'}},\n",
       " 'Entertainment': {'url': '/entertainment',\n",
       "  'subcat': {'Stars': '/entertainment/celebrities',\n",
       "   'Screen': '/entertainment/movies',\n",
       "   'Binge': '/entertainment/tv-shows',\n",
       "   'Culture': '/entertainment/culture',\n",
       "   'Media': '/business/media'}},\n",
       " 'Tech': {'url': '/business/tech',\n",
       "  'subcat': {'Innovate': '/specials/tech/innovate',\n",
       "   'Gadget': '/specials/tech/gadget',\n",
       "   'Foreseeable Future': '/specials/tech/foreseeable-future',\n",
       "   'Mission: Ahead': '/specials/tech/mission-ahead',\n",
       "   'Upstarts': '/specials/tech/upstarts',\n",
       "   'Work Transformed': '/specials/tech/work-transformed',\n",
       "   'Innovative Cities': '/specials/tech/innovative-cities'}},\n",
       " 'Style': {'url': '/style',\n",
       "  'subcat': {'Arts': '/style/arts',\n",
       "   'Design': '/style/design',\n",
       "   'Fashion': '/style/fashion',\n",
       "   'Architecture': '/style/architecture',\n",
       "   'Luxury': '/style/luxury',\n",
       "   'Beauty': '/style/beauty',\n",
       "   'Video': '/style/videos'}},\n",
       " 'Travel': {'url': '/travel',\n",
       "  'subcat': {'Destinations': '/travel/destinations',\n",
       "   'Food and Drink': '/travel/food-and-drink',\n",
       "   'Stay': '/travel/stay',\n",
       "   'News': '/travel/news',\n",
       "   'Videos': '/travel/videos'}},\n",
       " 'Sports': {'url': '/sport',\n",
       "  'subcat': {'Football': '/sport/football',\n",
       "   'Tennis': '/sport/tennis',\n",
       "   'Golf': '/sport/golf',\n",
       "   'Olympics': '/specials/sport/beijing-winter-olympics-2022',\n",
       "   'US Sports': '/specials/sport/us-sports',\n",
       "   'Climbing': '/specials/climbing',\n",
       "   'Motorsport': '/sport/motorsport',\n",
       "   'Esports': '/specials/esports'}},\n",
       " 'Videos': {'url': '/videos',\n",
       "  'subcat': {'Live TV ': '/live-tv',\n",
       "   'Digital Studios': '/specials/digital-studios',\n",
       "   'CNN Films': '/specials/videos/digital-shorts',\n",
       "   'HLN': '/specials/videos/hln',\n",
       "   'TV Schedule': '/tv/schedule/cnn',\n",
       "   'TV Shows A-Z': '/specials/tv/all-shows',\n",
       "   'CNNVR': '/vr'}},\n",
       " 'Features': {'url': '/specials',\n",
       "  'subcat': {'As Equals': '/interactive/asequals/',\n",
       "   'Call to Earth': '/interactive/call-to-earth/',\n",
       "   'Freedom Project': '/specials/world/freedom-project',\n",
       "   'Impact Your World': '/specials/impact-your-world',\n",
       "   'Inside Africa': '/specials/africa/inside-africa',\n",
       "   '2 Degrees': '/specials/opinions/two-degrees',\n",
       "   'CNN Heroes': '/specials/cnn-heroes',\n",
       "   'All Features': '/specials'}},\n",
       " 'Weather': {'url': '/weather',\n",
       "  'subcat': {'Climate': '/specials/world/cnn-climate',\n",
       "   'Storm Tracker': '/interactive/2020/weather/gonzalo-storm-path-tracker/index.html',\n",
       "   'Wildfire Tracker': '/interactive/2020/weather/wildfire-and-air-quality-tracker/',\n",
       "   'Video': '/specials/weather/weather-video'}},\n",
       " 'More': {'url': '/more',\n",
       "  'subcat': {'Photos': '/specials/photos',\n",
       "   'Longform': '/specials/cnn-longform',\n",
       "   'Investigations': '/specials/cnn-investigates',\n",
       "   'CNN Profiles': '/specials/profiles',\n",
       "   'CNN Leadership': '/specials/more/cnn-leadership',\n",
       "   'CNN Newsletters': '/email/subscription',\n",
       "   'Work for CNN': 'https://www.turnerjobs.com/search-jobs?orgIds=1174&ac=19299'}}}"
      ]
     },
     "execution_count": 9,
     "metadata": {},
     "output_type": "execute_result"
    }
   ],
   "source": [
    "dict_cat_profile"
   ]
  },
  {
   "cell_type": "code",
   "execution_count": 10,
   "id": "5fb1b2f9",
   "metadata": {},
   "outputs": [
    {
     "name": "stdout",
     "output_type": "stream",
     "text": [
      "[INFO] Scraping article urls ...\n",
      "[INFO] Scraping from https://edition.cnn.com/world: found 112 articles\n",
      "[INFO] Scraping from https://edition.cnn.com/politics: found 34 articles\n",
      "[INFO] Scraping from https://edition.cnn.com/business: found 54 articles\n",
      "[INFO] Scraping from https://edition.cnn.com/health: found 83 articles\n",
      "[INFO] Scraping from https://edition.cnn.com/entertainment: found 40 articles\n",
      "[INFO] Scraping from https://edition.cnn.com/business/tech: found 32 articles\n",
      "[INFO] Scraping from https://edition.cnn.com/style: found 0 articles\n",
      "[INFO] Scraping from https://edition.cnn.com/travel: found 0 articles\n",
      "[INFO] Scraping from https://edition.cnn.com/sport: found 0 articles\n",
      "[INFO] Scraping from https://edition.cnn.com/videos: found 0 articles\n",
      "[INFO] Scraping from https://edition.cnn.com/specials: found 17 articles\n",
      "[INFO] Scraping from https://edition.cnn.com/weather: found 31 articles\n",
      "[INFO] Scraping from https://edition.cnn.com/more: found 35 articles\n"
     ]
    },
    {
     "ename": "TypeError",
     "evalue": "'NoneType' object is not subscriptable",
     "output_type": "error",
     "traceback": [
      "\u001b[1;31m---------------------------------------------------------------------------\u001b[0m",
      "\u001b[1;31mTypeError\u001b[0m                                 Traceback (most recent call last)",
      "\u001b[1;32m~\\AppData\\Local\\Temp/ipykernel_12476/3794908413.py\u001b[0m in \u001b[0;36m<module>\u001b[1;34m\u001b[0m\n\u001b[0;32m     12\u001b[0m     \u001b[0marticle_div\u001b[0m \u001b[1;33m=\u001b[0m \u001b[0msoup\u001b[0m\u001b[1;33m.\u001b[0m\u001b[0mfind_all\u001b[0m\u001b[1;33m(\u001b[0m\u001b[0mclass_\u001b[0m\u001b[1;33m=\u001b[0m\u001b[1;34m\"cd__content\"\u001b[0m\u001b[1;33m)\u001b[0m\u001b[1;33m\u001b[0m\u001b[1;33m\u001b[0m\u001b[0m\n\u001b[0;32m     13\u001b[0m     \u001b[0mprint\u001b[0m\u001b[1;33m(\u001b[0m\u001b[1;34mf\"[INFO] Scraping from {main_url+url}: found {len(article_div)} articles\"\u001b[0m\u001b[1;33m)\u001b[0m\u001b[1;33m\u001b[0m\u001b[1;33m\u001b[0m\u001b[0m\n\u001b[1;32m---> 14\u001b[1;33m     \u001b[0mlist_article_url\u001b[0m\u001b[1;33m.\u001b[0m\u001b[0mextend\u001b[0m\u001b[1;33m(\u001b[0m\u001b[1;33m[\u001b[0m\u001b[0ma\u001b[0m\u001b[1;33m.\u001b[0m\u001b[0mfind\u001b[0m\u001b[1;33m(\u001b[0m\u001b[1;34m\"a\"\u001b[0m\u001b[1;33m)\u001b[0m\u001b[1;33m[\u001b[0m\u001b[1;34m\"href\"\u001b[0m\u001b[1;33m]\u001b[0m \u001b[1;32mfor\u001b[0m \u001b[0ma\u001b[0m \u001b[1;32min\u001b[0m \u001b[0marticle_div\u001b[0m\u001b[1;33m]\u001b[0m\u001b[1;33m)\u001b[0m\u001b[1;33m\u001b[0m\u001b[1;33m\u001b[0m\u001b[0m\n\u001b[0m\u001b[0;32m     15\u001b[0m \u001b[1;33m\u001b[0m\u001b[0m\n\u001b[0;32m     16\u001b[0m \u001b[1;33m\u001b[0m\u001b[0m\n",
      "\u001b[1;32m~\\AppData\\Local\\Temp/ipykernel_12476/3794908413.py\u001b[0m in \u001b[0;36m<listcomp>\u001b[1;34m(.0)\u001b[0m\n\u001b[0;32m     12\u001b[0m     \u001b[0marticle_div\u001b[0m \u001b[1;33m=\u001b[0m \u001b[0msoup\u001b[0m\u001b[1;33m.\u001b[0m\u001b[0mfind_all\u001b[0m\u001b[1;33m(\u001b[0m\u001b[0mclass_\u001b[0m\u001b[1;33m=\u001b[0m\u001b[1;34m\"cd__content\"\u001b[0m\u001b[1;33m)\u001b[0m\u001b[1;33m\u001b[0m\u001b[1;33m\u001b[0m\u001b[0m\n\u001b[0;32m     13\u001b[0m     \u001b[0mprint\u001b[0m\u001b[1;33m(\u001b[0m\u001b[1;34mf\"[INFO] Scraping from {main_url+url}: found {len(article_div)} articles\"\u001b[0m\u001b[1;33m)\u001b[0m\u001b[1;33m\u001b[0m\u001b[1;33m\u001b[0m\u001b[0m\n\u001b[1;32m---> 14\u001b[1;33m     \u001b[0mlist_article_url\u001b[0m\u001b[1;33m.\u001b[0m\u001b[0mextend\u001b[0m\u001b[1;33m(\u001b[0m\u001b[1;33m[\u001b[0m\u001b[0ma\u001b[0m\u001b[1;33m.\u001b[0m\u001b[0mfind\u001b[0m\u001b[1;33m(\u001b[0m\u001b[1;34m\"a\"\u001b[0m\u001b[1;33m)\u001b[0m\u001b[1;33m[\u001b[0m\u001b[1;34m\"href\"\u001b[0m\u001b[1;33m]\u001b[0m \u001b[1;32mfor\u001b[0m \u001b[0ma\u001b[0m \u001b[1;32min\u001b[0m \u001b[0marticle_div\u001b[0m\u001b[1;33m]\u001b[0m\u001b[1;33m)\u001b[0m\u001b[1;33m\u001b[0m\u001b[1;33m\u001b[0m\u001b[0m\n\u001b[0m\u001b[0;32m     15\u001b[0m \u001b[1;33m\u001b[0m\u001b[0m\n\u001b[0;32m     16\u001b[0m \u001b[1;33m\u001b[0m\u001b[0m\n",
      "\u001b[1;31mTypeError\u001b[0m: 'NoneType' object is not subscriptable"
     ]
    }
   ],
   "source": [
    "list_article_url = []\n",
    "print(\"[INFO] Scraping article urls ...\")\n",
    "for k, v in dict_cat_profile.items():\n",
    "    cat_name = k\n",
    "    url = v[\"url\"]\n",
    "    # r = requests.get(url)\n",
    "    browser.implicitly_wait(5)\n",
    "    browser.get(main_url+url)\n",
    "    browser.execute_script(\"window.scrollTo(0, document.body.scrollHeight);\")\n",
    "    html = browser.page_source\n",
    "    soup = BeautifulSoup(html)\n",
    "    article_div = soup.find_all(class_=\"cd__content\")\n",
    "    print(f\"[INFO] Scraping from {main_url+url}: found {len(article_div)} articles\")\n",
    "    list_article_url.extend([a.find(\"a\")[\"href\"] for a in article_div])\n",
    "    "
   ]
  },
  {
   "cell_type": "code",
   "execution_count": 17,
   "id": "dddcc4a7",
   "metadata": {},
   "outputs": [
    {
     "data": {
      "text/plain": [
       "False"
      ]
     },
     "execution_count": 17,
     "metadata": {},
     "output_type": "execute_result"
    }
   ],
   "source": [
    "def validate_article_url(url):\n",
    "    valid = True\n",
    "    if \"http\" in url:\n",
    "        valid = False\n",
    "        \n",
    "    if \"/video/\" in url:\n",
    "        valid = False\n",
    "        \n",
    "    if \"/videos/\" in url:\n",
    "        valid = False\n",
    "        \n",
    "    if \"/live-news/\" in url:\n",
    "        valid = False\n",
    "        \n",
    "    return valid\n",
    "\n",
    "validate_article_url('/videos/politics/2022/07/12/jake-tapper-john-bolton-debate-january-6-coup-attempt-sot-lead-vpx.cnn/video/playlists/this-week-in-politics/')"
   ]
  },
  {
   "cell_type": "code",
   "execution_count": 18,
   "id": "4c598d17",
   "metadata": {},
   "outputs": [],
   "source": [
    "list_valid_article_url = [url for url in list_article_url if validate_article_url(url)]"
   ]
  },
  {
   "cell_type": "code",
   "execution_count": 19,
   "id": "a4ba0162",
   "metadata": {},
   "outputs": [],
   "source": [
    "valid_article_url = list_valid_article_url[4]"
   ]
  },
  {
   "cell_type": "code",
   "execution_count": 20,
   "id": "325dd72f",
   "metadata": {
    "scrolled": true
   },
   "outputs": [
    {
     "name": "stdout",
     "output_type": "stream",
     "text": [
      "https://edition.cnn.com/2022/07/14/europe/italy-government-collapse-july-intl/index.html\n"
     ]
    }
   ],
   "source": [
    "print(main_url+valid_article_url)\n",
    "r = requests.get(main_url+valid_article_url)\n",
    "# browser.implicitly_wait(5)\n",
    "# browser.get(main_url)\n",
    "# browser.execute_script(\"window.scrollTo(0, document.body.scrollHeight);\")\n",
    "main_soup = BeautifulSoup(r.content, \"html.parser\")"
   ]
  },
  {
   "cell_type": "code",
   "execution_count": 21,
   "id": "18845d42",
   "metadata": {},
   "outputs": [
    {
     "data": {
      "text/plain": [
       "\"Italy's President Mattarella rejects Prime Minister Draghi's resignation \""
      ]
     },
     "execution_count": 21,
     "metadata": {},
     "output_type": "execute_result"
    }
   ],
   "source": [
    "#title\n",
    "main_soup.find(\"h1\").text"
   ]
  },
  {
   "cell_type": "code",
   "execution_count": 22,
   "id": "49f44177",
   "metadata": {},
   "outputs": [
    {
     "name": "stdout",
     "output_type": "stream",
     "text": [
      "<div class=\"metadata\"><div class=\"metadata__info js-byline-images\" data-bundle=\"byline\"><p class=\"metadata__byline\"><span class=\"metadata__byline__author\">By Livia Borghese and Sharon Braithwaite, CNN</span></p><p class=\"metadata__show\"></p><p class=\"update-time\">Updated 2115 GMT (0515 HKT) July 14, 2022 <span class=\"video__source top_source\" id=\"js-pagetop_video_source\"></span></p></div></div>\n"
     ]
    },
    {
     "data": {
      "text/plain": [
       "('By Livia Borghese and Sharon Braithwaite, CNN', None)"
      ]
     },
     "execution_count": 22,
     "metadata": {},
     "output_type": "execute_result"
    }
   ],
   "source": [
    "#metadata\n",
    "metadata_div = main_soup.find(class_=\"metadata\")\n",
    "print(metadata_div)\n",
    "author_div = metadata_div.find(class_=\"metadata__byline__author\")\n",
    "author_name = author_div.text\n",
    "author_url = author_div.find(\"a\")\n",
    "update_time = metadata_div.find(class_=\"update-time\").text\n",
    "author_name, author_url"
   ]
  },
  {
   "cell_type": "code",
   "execution_count": 23,
   "id": "b0a15333",
   "metadata": {},
   "outputs": [
    {
     "name": "stdout",
     "output_type": "stream",
     "text": [
      "Rome (CNN)Italian Prime Minister Mario Draghi said Thursday that he would resign, after the 5-Star movement -- the largest party in the country's coalition government -- withdrew its support in a parliamentary confidence vote.\n",
      "Draghi's measures -- a package designed to tackle Italy's cost-of-living crisis -- passed by 172 to 39. However, the 5-Star boycott leaves the government at real risk of collapse and could lead to an early election. \n",
      "After winning the vote but losing 5-Star's support, Draghi said in a statement: \"I want to announce that this evening I will present my resignation to the President of the Republic.\" \n",
      "\"Today's votes in Parliament are very significant from a political point of view. The majority of national unity that has supported this government since its creation is no longer there,\" he added. \n",
      "He had previously said that he would not lead a government that did not include 5-Star. \n",
      "However, Italy's President, Sergio Mattarella, has rejected Draghi's resignation, instead asking Draghi to address the parliament in order to assess the political situation, the Italian Presidency said in a statement.\n",
      "\"The President of the Republic did not accept the resignation and invited the Prime Minister to appear before Parliament to make communications, so that an assessment of the situation that has arisen as a result of the outcome of the session held today in the Senate of the Republic could be carried out in its proper forum,\" the statement said. \n",
      "Several Italian political parties supported Mattarella's decision.   \n",
      "\"Italy, in this difficult moment, cannot do without Draghi,\" Renato Brunetta, the minister for public administration from the Go Italy party, said in a Facebook post.  \n",
      "Foreign Minister Luigi Di Maio described the decision of his former party, 5-Star movement, as \"a clear act of irresponsibility, thus condemning the country to the abyss.\" Di Maio left the party in June creating a new party called Together for the future.  \n",
      "In a statement, Di Maio's party supported the president's decision and called Draghi a \"precious and fundamental\" figure.  \n",
      "\"We are working to ensure that a solid majority in support of this government emerges in the parliament on Wednesday,\" it said.  \n",
      "But Giorgia Meloni, the Leader of the far-right Brothers of Italy, the only opposition party, called for \"immediate elections.\"  \n",
      "\"This nation is in a storm,\" Meloni said, listing all the difficulties on the international and national level, from the war in Ukraine to the rising energy prices.  \n",
      "The populist 5-Star movement had objected to Draghi's cost-of-living package on the grounds it didn't go far enough, after threatening to withdraw its support for a long time. \n",
      "A major sticking point was also the financing of a garbage incinerator in Rome, which angered the 5-Star movement. \n",
      "\"We are opposed to this decree in the term of method and substance, in particular regarding the incinerator. It's madness,\" said Maria Domenica Castellone, leader of the 5-Star movement in the senate, during a debate on Thursday.\n",
      "Draghi was appointed Prime Minister if Italy in 2021 to help the country recover from the Covid-19 crisis. He was seen as a safe pair of hands that would be able to responsibly use the European Union's Covid recovery funds. Draghi had previously served as President of the European Central Bank from 2011 to 2019. \n",
      "Upon taking the job, he appointed a cabinet comprising of people from a wide range of Italy's political parties. \n",
      "\n"
     ]
    }
   ],
   "source": [
    "list_related_article_urls = []\n",
    "for p in main_soup.find_all(class_=\"zn-body__paragraph\"):\n",
    "    a_tags = p.find_all(\"a\")\n",
    "    for a in a_tags:\n",
    "        list_related_article_urls.append(a['href'])\n",
    "    print(p.text)"
   ]
  },
  {
   "cell_type": "code",
   "execution_count": 24,
   "id": "cf8d6f11",
   "metadata": {},
   "outputs": [
    {
     "data": {
      "text/plain": [
       "['https://cnn.com/2019/06/06/business/ecb-president-mario-draghi/index.html',\n",
       " 'https://cnn.com/2021/02/12/europe/mario-draghi-italy-prime-minister-intl/index.html']"
      ]
     },
     "execution_count": 24,
     "metadata": {},
     "output_type": "execute_result"
    }
   ],
   "source": [
    "list_related_article_urls"
   ]
  },
  {
   "cell_type": "code",
   "execution_count": null,
   "id": "5ca9390d",
   "metadata": {},
   "outputs": [],
   "source": []
  },
  {
   "cell_type": "code",
   "execution_count": 3,
   "id": "0a97aec7",
   "metadata": {},
   "outputs": [],
   "source": [
    "import yaml"
   ]
  },
  {
   "cell_type": "code",
   "execution_count": 16,
   "id": "01f6bf8d",
   "metadata": {},
   "outputs": [],
   "source": [
    "file_path = \"src/backend/input/data.yaml\"\n",
    "with open(file_path, \"r\") as stream:\n",
    "    try:\n",
    "        config = yaml.safe_load(stream)\n",
    "    except yaml.YAMLError as exc:\n",
    "        print(exc)"
   ]
  },
  {
   "cell_type": "code",
   "execution_count": 17,
   "id": "caa466f0",
   "metadata": {},
   "outputs": [
    {
     "data": {
      "text/plain": [
       "{'CNN': {'main_url': 'https://edition.cnn.com/',\n",
       "  'main_category_tag': 'a',\n",
       "  'main_category_class': 'sc-fjdhpX sc-chPdSV hnOkcW',\n",
       "  'main_subcategory_tag': 'a',\n",
       "  'main_subcatergory_class': 'sc-fjdhpX sc-kpOJdX cgygcP',\n",
       "  'cat_post_tag': 'div',\n",
       "  'cat_post_class': 'cd__content',\n",
       "  'subcat_post_tag': 'div',\n",
       "  'subcat_post_class': 'cd__content',\n",
       "  'article_title_tag': 'h1',\n",
       "  'article_title_class': 'pg-headline',\n",
       "  'article_metadata_tag': 'div',\n",
       "  'article_metadata_class': 'metadata',\n",
       "  'article_metadata_author_tag': 'p',\n",
       "  'article_metadata_author_class': 'metadata__byline__author',\n",
       "  'article_metadata_datetime_tag': 'p',\n",
       "  'article_metadata_datetime_class': 'update-time'}}"
      ]
     },
     "execution_count": 17,
     "metadata": {},
     "output_type": "execute_result"
    }
   ],
   "source": [
    "config"
   ]
  },
  {
   "cell_type": "code",
   "execution_count": 20,
   "id": "07fd1d46",
   "metadata": {},
   "outputs": [
    {
     "data": {
      "text/plain": [
       "{'main_url': 'https://edition.cnn.com/',\n",
       " 'main_category_tag': 'a',\n",
       " 'main_category_class': 'sc-fjdhpX sc-chPdSV hnOkcW',\n",
       " 'main_subcategory_tag': 'a',\n",
       " 'main_subcatergory_class': 'sc-fjdhpX sc-kpOJdX cgygcP',\n",
       " 'cat_post_tag': 'div',\n",
       " 'cat_post_class': 'cd__content',\n",
       " 'subcat_post_tag': 'div',\n",
       " 'subcat_post_class': 'cd__content',\n",
       " 'article_title_tag': 'h1',\n",
       " 'article_title_class': 'pg-headline',\n",
       " 'article_metadata_tag': 'div',\n",
       " 'article_metadata_class': 'metadata',\n",
       " 'article_metadata_author_tag': 'p',\n",
       " 'article_metadata_author_class': 'metadata__byline__author',\n",
       " 'article_metadata_datetime_tag': 'p',\n",
       " 'article_metadata_datetime_class': 'update-time'}"
      ]
     },
     "execution_count": 20,
     "metadata": {},
     "output_type": "execute_result"
    }
   ],
   "source": [
    "config[\"CNN\"]"
   ]
  },
  {
   "cell_type": "code",
   "execution_count": null,
   "id": "4ed04399",
   "metadata": {},
   "outputs": [],
   "source": []
  },
  {
   "cell_type": "code",
   "execution_count": 87,
   "id": "dce4dc37",
   "metadata": {},
   "outputs": [
    {
     "data": {
      "text/plain": [
       "'06:15'"
      ]
     },
     "execution_count": 87,
     "metadata": {},
     "output_type": "execute_result"
    }
   ],
   "source": [
    "s = \"Updated 0615 GMT (1415 HKT) July 16, 2022\"\n",
    "t = re.compile(\"(\\d{4})\").search(s).span()\n",
    "str_t = s[t[0]:t[1]]\n",
    "str_t = str_t[:2] + \":\" + str_t[2:]\n",
    "str_t"
   ]
  },
  {
   "cell_type": "code",
   "execution_count": 88,
   "id": "7e5153b5",
   "metadata": {},
   "outputs": [
    {
     "data": {
      "text/plain": [
       "'July 16, 2022'"
      ]
     },
     "execution_count": 88,
     "metadata": {},
     "output_type": "execute_result"
    }
   ],
   "source": [
    "d = re.compile(\"([a-z]{1,10} \\d{1,2}, \\d{4})\").search(s.lower()).span()\n",
    "str_d = s[d[0]:d[1]]\n",
    "str_d"
   ]
  },
  {
   "cell_type": "code",
   "execution_count": 90,
   "id": "e147c0f7",
   "metadata": {},
   "outputs": [],
   "source": [
    "from datetime import datetime\n",
    "datetime_object = datetime.strptime(f\"{str_d} {str_t}\", '%B %d, %Y %H:%M')"
   ]
  },
  {
   "cell_type": "code",
   "execution_count": 91,
   "id": "9c6a68a4",
   "metadata": {},
   "outputs": [
    {
     "data": {
      "text/plain": [
       "datetime.datetime(2022, 7, 16, 6, 15)"
      ]
     },
     "execution_count": 91,
     "metadata": {},
     "output_type": "execute_result"
    }
   ],
   "source": [
    "datetime_object"
   ]
  },
  {
   "cell_type": "code",
   "execution_count": null,
   "id": "d3df70c5",
   "metadata": {},
   "outputs": [],
   "source": []
  }
 ],
 "metadata": {
  "kernelspec": {
   "display_name": "Python 3 (ipykernel)",
   "language": "python",
   "name": "python3"
  },
  "language_info": {
   "codemirror_mode": {
    "name": "ipython",
    "version": 3
   },
   "file_extension": ".py",
   "mimetype": "text/x-python",
   "name": "python",
   "nbconvert_exporter": "python",
   "pygments_lexer": "ipython3",
   "version": "3.7.11"
  }
 },
 "nbformat": 4,
 "nbformat_minor": 5
}
