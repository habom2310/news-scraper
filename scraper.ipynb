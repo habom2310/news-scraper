{
 "cells": [
  {
   "cell_type": "code",
   "execution_count": 53,
   "id": "929a2968",
   "metadata": {},
   "outputs": [],
   "source": [
    "from bs4 import BeautifulSoup\n",
    "import requests\n",
    "import re\n",
    "from selenium import webdriver"
   ]
  },
  {
   "cell_type": "code",
   "execution_count": 156,
   "id": "dbe5a684",
   "metadata": {},
   "outputs": [
    {
     "name": "stderr",
     "output_type": "stream",
     "text": [
      "c:\\users\\work\\anaconda3\\envs\\kia\\lib\\site-packages\\ipykernel_launcher.py:1: DeprecationWarning: executable_path has been deprecated, please pass in a Service object\n",
      "  \"\"\"Entry point for launching an IPython kernel.\n"
     ]
    }
   ],
   "source": [
    "browser = webdriver.Chrome(\"webdriver/chromedriver.exe\")"
   ]
  },
  {
   "cell_type": "code",
   "execution_count": 130,
   "id": "7ebfe888",
   "metadata": {},
   "outputs": [],
   "source": [
    "main_url = 'https://edition.cnn.com'\n",
    "# r = requests.get(url)\n",
    "browser.implicitly_wait(5)\n",
    "browser.get(main_url)\n",
    "browser.execute_script(\"window.scrollTo(0, document.body.scrollHeight);\")"
   ]
  },
  {
   "cell_type": "code",
   "execution_count": 131,
   "id": "be6d6209",
   "metadata": {},
   "outputs": [],
   "source": [
    "main_html = browser.page_source\n",
    "main_soup = BeautifulSoup(main_html)"
   ]
  },
  {
   "cell_type": "code",
   "execution_count": 175,
   "id": "afc4387a",
   "metadata": {},
   "outputs": [
    {
     "name": "stdout",
     "output_type": "stream",
     "text": [
      "[INFO] Scraping categories and sub-categories ...\n",
      "[INFO] found 13 categories: ['World', 'US Politics', 'Business', 'Health', 'Entertainment', 'Tech', 'Style', 'Travel', 'Sports', 'Videos', 'Features', 'Weather', 'More']\n"
     ]
    }
   ],
   "source": [
    "print(\"[INFO] Scraping categories and sub-categories ...\")\n",
    "list_cat_tag = main_soup.find_all(\"a\",class_=\"sc-fjdhpX sc-chPdSV hnOkcW\")\n",
    "dict_cat_profile = {}\n",
    "for i, cat in enumerate(list_cat_tag):\n",
    "    if cat.text in dict_cat_profile.keys():\n",
    "        continue\n",
    "    cat_profile = {}\n",
    "    cat_profile[\"url\"] = cat[\"href\"]\n",
    "    \n",
    "    subcat_tags = cat.find_next_sibling('ul')\n",
    "    subcats = subcat_tags.find_all(\"a\")\n",
    "    list_subcat_href = {}\n",
    "    for subcat in subcats:\n",
    "        list_subcat_href[subcat.text]=subcat[\"href\"]\n",
    "        \n",
    "    cat_profile[\"subcat\"] = list_subcat_href\n",
    "    \n",
    "    dict_cat_profile[cat.text] = cat_profile\n",
    "\n",
    "print(f\"[INFO] found {len(dict_cat_profile)} categories: {[k for k in dict_cat_profile.keys()]}\")"
   ]
  },
  {
   "cell_type": "code",
   "execution_count": 139,
   "id": "4315dda9",
   "metadata": {
    "collapsed": true
   },
   "outputs": [
    {
     "data": {
      "text/plain": [
       "{'World': {'url': '/world',\n",
       "  'subcat': {'Africa': '/africa',\n",
       "   'Americas': '/americas',\n",
       "   'Asia': '/asia',\n",
       "   'Australia': '/australia',\n",
       "   'China': '/china',\n",
       "   'Europe': '/europe',\n",
       "   'India': '/india',\n",
       "   'Middle East': '/middle-east',\n",
       "   'United Kingdom': '/uk'}},\n",
       " 'US Politics': {'url': '/politics',\n",
       "  'subcat': {'The Biden Presidency': '/specials/politics/joe-biden-news',\n",
       "   'Facts First': '/specials/politics/fact-check-politics',\n",
       "   'US Elections': '/election/2022'}},\n",
       " 'Business': {'url': '/business',\n",
       "  'subcat': {'Markets': 'https://money.cnn.com/data/markets/',\n",
       "   'Tech': '/business/tech',\n",
       "   'Media': '/business/media',\n",
       "   'Success': '/business/success',\n",
       "   'Perspectives': '/business/perspectives',\n",
       "   'Videos': '/business/videos'}},\n",
       " 'Health': {'url': '/health',\n",
       "  'subcat': {'Life, But Better': '/specials/health/life-but-better',\n",
       "   'Fitness': '/specials/health/fitness-life-but-better',\n",
       "   'Food': '/specials/health/food-life-but-better',\n",
       "   'Sleep': '/specials/health/sleep-life-but-better',\n",
       "   'Mindfulness': '/specials/health/mindfulness-life-but-better',\n",
       "   'Relationships': '/specials/health/relationships-life-but-better'}},\n",
       " 'Entertainment': {'url': '/entertainment',\n",
       "  'subcat': {'Stars': '/entertainment/celebrities',\n",
       "   'Screen': '/entertainment/movies',\n",
       "   'Binge': '/entertainment/tv-shows',\n",
       "   'Culture': '/entertainment/culture',\n",
       "   'Media': '/business/media'}},\n",
       " 'Tech': {'url': '/business/tech',\n",
       "  'subcat': {'Innovate': '/specials/tech/innovate',\n",
       "   'Gadget': '/specials/tech/gadget',\n",
       "   'Foreseeable Future': '/specials/tech/foreseeable-future',\n",
       "   'Mission: Ahead': '/specials/tech/mission-ahead',\n",
       "   'Upstarts': '/specials/tech/upstarts',\n",
       "   'Work Transformed': '/specials/tech/work-transformed',\n",
       "   'Innovative Cities': '/specials/tech/innovative-cities'}},\n",
       " 'Style': {'url': '/style',\n",
       "  'subcat': {'Arts': '/style/arts',\n",
       "   'Design': '/style/design',\n",
       "   'Fashion': '/style/fashion',\n",
       "   'Architecture': '/style/architecture',\n",
       "   'Luxury': '/style/luxury',\n",
       "   'Beauty': '/style/beauty',\n",
       "   'Video': '/style/videos'}},\n",
       " 'Travel': {'url': '/travel',\n",
       "  'subcat': {'Destinations': '/travel/destinations',\n",
       "   'Food and Drink': '/travel/food-and-drink',\n",
       "   'Stay': '/travel/stay',\n",
       "   'News': '/travel/news',\n",
       "   'Videos': '/travel/videos'}},\n",
       " 'Sports': {'url': '/sport',\n",
       "  'subcat': {'Football': '/sport/football',\n",
       "   'Tennis': '/sport/tennis',\n",
       "   'Golf': '/sport/golf',\n",
       "   'Olympics': '/specials/sport/beijing-winter-olympics-2022',\n",
       "   'US Sports': '/specials/sport/us-sports',\n",
       "   'Climbing': '/specials/climbing',\n",
       "   'Motorsport': '/sport/motorsport',\n",
       "   'Esports': '/specials/esports'}},\n",
       " 'Videos': {'url': '/videos',\n",
       "  'subcat': {'Live TV ': '/live-tv',\n",
       "   'Digital Studios': '/specials/digital-studios',\n",
       "   'CNN Films': '/specials/videos/digital-shorts',\n",
       "   'HLN': '/specials/videos/hln',\n",
       "   'TV Schedule': '/tv/schedule/cnn',\n",
       "   'TV Shows A-Z': '/specials/tv/all-shows',\n",
       "   'CNNVR': '/vr'}},\n",
       " 'Features': {'url': '/specials',\n",
       "  'subcat': {'As Equals': '/interactive/asequals/',\n",
       "   'Call to Earth': '/interactive/call-to-earth/',\n",
       "   'Freedom Project': '/specials/world/freedom-project',\n",
       "   'Impact Your World': '/specials/impact-your-world',\n",
       "   'Inside Africa': '/specials/africa/inside-africa',\n",
       "   '2 Degrees': '/specials/opinions/two-degrees',\n",
       "   'CNN Heroes': '/specials/cnn-heroes',\n",
       "   'All Features': '/specials'}},\n",
       " 'Weather': {'url': '/weather',\n",
       "  'subcat': {'Climate': '/specials/world/cnn-climate',\n",
       "   'Storm Tracker': '/interactive/2020/weather/gonzalo-storm-path-tracker/index.html',\n",
       "   'Wildfire Tracker': '/interactive/2020/weather/wildfire-and-air-quality-tracker/',\n",
       "   'Video': '/specials/weather/weather-video'}},\n",
       " 'More': {'url': '/more',\n",
       "  'subcat': {'Photos': '/specials/photos',\n",
       "   'Longform': '/specials/cnn-longform',\n",
       "   'Investigations': '/specials/cnn-investigates',\n",
       "   'CNN Profiles': '/specials/profiles',\n",
       "   'CNN Leadership': '/specials/more/cnn-leadership',\n",
       "   'CNN Newsletters': '/email/subscription',\n",
       "   'Work for CNN': 'https://www.turnerjobs.com/search-jobs?orgIds=1174&ac=19299'}}}"
      ]
     },
     "execution_count": 139,
     "metadata": {},
     "output_type": "execute_result"
    }
   ],
   "source": [
    "dict_cat_profile"
   ]
  },
  {
   "cell_type": "code",
   "execution_count": 140,
   "id": "5fb1b2f9",
   "metadata": {
    "collapsed": true
   },
   "outputs": [
    {
     "name": "stdout",
     "output_type": "stream",
     "text": [
      "https://edition.cnn.com/world: found 112 articles\n",
      "https://edition.cnn.com/politics: found 96 articles\n",
      "https://edition.cnn.com/business: found 56 articles\n",
      "https://edition.cnn.com/health: found 83 articles\n",
      "https://edition.cnn.com/entertainment: found 40 articles\n"
     ]
    },
    {
     "ename": "WebDriverException",
     "evalue": "Message: unknown error: cannot determine loading status\nfrom unknown error: unexpected command response\n  (Session info: chrome=103.0.5060.114)\nStacktrace:\nBacktrace:\n\tOrdinal0 [0x00B96463+2188387]\n\tOrdinal0 [0x00B2E461+1762401]\n\tOrdinal0 [0x00A43D78+802168]\n\tOrdinal0 [0x00A37210+750096]\n\tOrdinal0 [0x00A3675A+747354]\n\tOrdinal0 [0x00A35D3F+744767]\n\tOrdinal0 [0x00A34C28+740392]\n\tOrdinal0 [0x00A35228+741928]\n\tOrdinal0 [0x00A3EF2F+782127]\n\tOrdinal0 [0x00A49FBB+827323]\n\tOrdinal0 [0x00A4D310+840464]\n\tOrdinal0 [0x00A354F6+742646]\n\tOrdinal0 [0x00A49BF3+826355]\n\tOrdinal0 [0x00A9CF6D+1167213]\n\tOrdinal0 [0x00A8C5F6+1099254]\n\tOrdinal0 [0x00A66BE0+945120]\n\tOrdinal0 [0x00A67AD6+948950]\n\tGetHandleVerifier [0x00E371F2+2712546]\n\tGetHandleVerifier [0x00E2886D+2652765]\n\tGetHandleVerifier [0x00C2002A+520730]\n\tGetHandleVerifier [0x00C1EE06+516086]\n\tOrdinal0 [0x00B3468B+1787531]\n\tOrdinal0 [0x00B38E88+1805960]\n\tOrdinal0 [0x00B38F75+1806197]\n\tOrdinal0 [0x00B41DF1+1842673]\n\tBaseThreadInitThunk [0x7770FA29+25]\n\tRtlGetAppContainerNamedObjectPath [0x77857A9E+286]\n\tRtlGetAppContainerNamedObjectPath [0x77857A6E+238]\n",
     "output_type": "error",
     "traceback": [
      "\u001b[1;31m---------------------------------------------------------------------------\u001b[0m",
      "\u001b[1;31mWebDriverException\u001b[0m                        Traceback (most recent call last)",
      "\u001b[1;32m~\\AppData\\Local\\Temp/ipykernel_21528/302219165.py\u001b[0m in \u001b[0;36m<module>\u001b[1;34m\u001b[0m\n\u001b[0;32m      5\u001b[0m     \u001b[1;31m# r = requests.get(url)\u001b[0m\u001b[1;33m\u001b[0m\u001b[1;33m\u001b[0m\u001b[1;33m\u001b[0m\u001b[0m\n\u001b[0;32m      6\u001b[0m     \u001b[0mbrowser\u001b[0m\u001b[1;33m.\u001b[0m\u001b[0mimplicitly_wait\u001b[0m\u001b[1;33m(\u001b[0m\u001b[1;36m5\u001b[0m\u001b[1;33m)\u001b[0m\u001b[1;33m\u001b[0m\u001b[1;33m\u001b[0m\u001b[0m\n\u001b[1;32m----> 7\u001b[1;33m     \u001b[0mbrowser\u001b[0m\u001b[1;33m.\u001b[0m\u001b[0mget\u001b[0m\u001b[1;33m(\u001b[0m\u001b[0mmain_url\u001b[0m\u001b[1;33m+\u001b[0m\u001b[0murl\u001b[0m\u001b[1;33m)\u001b[0m\u001b[1;33m\u001b[0m\u001b[1;33m\u001b[0m\u001b[0m\n\u001b[0m\u001b[0;32m      8\u001b[0m     \u001b[0mbrowser\u001b[0m\u001b[1;33m.\u001b[0m\u001b[0mexecute_script\u001b[0m\u001b[1;33m(\u001b[0m\u001b[1;34m\"window.scrollTo(0, document.body.scrollHeight);\"\u001b[0m\u001b[1;33m)\u001b[0m\u001b[1;33m\u001b[0m\u001b[1;33m\u001b[0m\u001b[0m\n\u001b[0;32m      9\u001b[0m     \u001b[0mhtml\u001b[0m \u001b[1;33m=\u001b[0m \u001b[0mbrowser\u001b[0m\u001b[1;33m.\u001b[0m\u001b[0mpage_source\u001b[0m\u001b[1;33m\u001b[0m\u001b[1;33m\u001b[0m\u001b[0m\n",
      "\u001b[1;32mc:\\users\\work\\anaconda3\\envs\\kia\\lib\\site-packages\\selenium\\webdriver\\remote\\webdriver.py\u001b[0m in \u001b[0;36mget\u001b[1;34m(self, url)\u001b[0m\n\u001b[0;32m    428\u001b[0m         \u001b[0mLoads\u001b[0m \u001b[0ma\u001b[0m \u001b[0mweb\u001b[0m \u001b[0mpage\u001b[0m \u001b[1;32min\u001b[0m \u001b[0mthe\u001b[0m \u001b[0mcurrent\u001b[0m \u001b[0mbrowser\u001b[0m \u001b[0msession\u001b[0m\u001b[1;33m.\u001b[0m\u001b[1;33m\u001b[0m\u001b[1;33m\u001b[0m\u001b[0m\n\u001b[0;32m    429\u001b[0m         \"\"\"\n\u001b[1;32m--> 430\u001b[1;33m         \u001b[0mself\u001b[0m\u001b[1;33m.\u001b[0m\u001b[0mexecute\u001b[0m\u001b[1;33m(\u001b[0m\u001b[0mCommand\u001b[0m\u001b[1;33m.\u001b[0m\u001b[0mGET\u001b[0m\u001b[1;33m,\u001b[0m \u001b[1;33m{\u001b[0m\u001b[1;34m'url'\u001b[0m\u001b[1;33m:\u001b[0m \u001b[0murl\u001b[0m\u001b[1;33m}\u001b[0m\u001b[1;33m)\u001b[0m\u001b[1;33m\u001b[0m\u001b[1;33m\u001b[0m\u001b[0m\n\u001b[0m\u001b[0;32m    431\u001b[0m \u001b[1;33m\u001b[0m\u001b[0m\n\u001b[0;32m    432\u001b[0m     \u001b[1;33m@\u001b[0m\u001b[0mproperty\u001b[0m\u001b[1;33m\u001b[0m\u001b[1;33m\u001b[0m\u001b[0m\n",
      "\u001b[1;32mc:\\users\\work\\anaconda3\\envs\\kia\\lib\\site-packages\\selenium\\webdriver\\remote\\webdriver.py\u001b[0m in \u001b[0;36mexecute\u001b[1;34m(self, driver_command, params)\u001b[0m\n\u001b[0;32m    416\u001b[0m         \u001b[0mresponse\u001b[0m \u001b[1;33m=\u001b[0m \u001b[0mself\u001b[0m\u001b[1;33m.\u001b[0m\u001b[0mcommand_executor\u001b[0m\u001b[1;33m.\u001b[0m\u001b[0mexecute\u001b[0m\u001b[1;33m(\u001b[0m\u001b[0mdriver_command\u001b[0m\u001b[1;33m,\u001b[0m \u001b[0mparams\u001b[0m\u001b[1;33m)\u001b[0m\u001b[1;33m\u001b[0m\u001b[1;33m\u001b[0m\u001b[0m\n\u001b[0;32m    417\u001b[0m         \u001b[1;32mif\u001b[0m \u001b[0mresponse\u001b[0m\u001b[1;33m:\u001b[0m\u001b[1;33m\u001b[0m\u001b[1;33m\u001b[0m\u001b[0m\n\u001b[1;32m--> 418\u001b[1;33m             \u001b[0mself\u001b[0m\u001b[1;33m.\u001b[0m\u001b[0merror_handler\u001b[0m\u001b[1;33m.\u001b[0m\u001b[0mcheck_response\u001b[0m\u001b[1;33m(\u001b[0m\u001b[0mresponse\u001b[0m\u001b[1;33m)\u001b[0m\u001b[1;33m\u001b[0m\u001b[1;33m\u001b[0m\u001b[0m\n\u001b[0m\u001b[0;32m    419\u001b[0m             response['value'] = self._unwrap_value(\n\u001b[0;32m    420\u001b[0m                 response.get('value', None))\n",
      "\u001b[1;32mc:\\users\\work\\anaconda3\\envs\\kia\\lib\\site-packages\\selenium\\webdriver\\remote\\errorhandler.py\u001b[0m in \u001b[0;36mcheck_response\u001b[1;34m(self, response)\u001b[0m\n\u001b[0;32m    241\u001b[0m                 \u001b[0malert_text\u001b[0m \u001b[1;33m=\u001b[0m \u001b[0mvalue\u001b[0m\u001b[1;33m[\u001b[0m\u001b[1;34m'alert'\u001b[0m\u001b[1;33m]\u001b[0m\u001b[1;33m.\u001b[0m\u001b[0mget\u001b[0m\u001b[1;33m(\u001b[0m\u001b[1;34m'text'\u001b[0m\u001b[1;33m)\u001b[0m\u001b[1;33m\u001b[0m\u001b[1;33m\u001b[0m\u001b[0m\n\u001b[0;32m    242\u001b[0m             \u001b[1;32mraise\u001b[0m \u001b[0mexception_class\u001b[0m\u001b[1;33m(\u001b[0m\u001b[0mmessage\u001b[0m\u001b[1;33m,\u001b[0m \u001b[0mscreen\u001b[0m\u001b[1;33m,\u001b[0m \u001b[0mstacktrace\u001b[0m\u001b[1;33m,\u001b[0m \u001b[0malert_text\u001b[0m\u001b[1;33m)\u001b[0m  \u001b[1;31m# type: ignore[call-arg]  # mypy is not smart enough here\u001b[0m\u001b[1;33m\u001b[0m\u001b[1;33m\u001b[0m\u001b[0m\n\u001b[1;32m--> 243\u001b[1;33m         \u001b[1;32mraise\u001b[0m \u001b[0mexception_class\u001b[0m\u001b[1;33m(\u001b[0m\u001b[0mmessage\u001b[0m\u001b[1;33m,\u001b[0m \u001b[0mscreen\u001b[0m\u001b[1;33m,\u001b[0m \u001b[0mstacktrace\u001b[0m\u001b[1;33m)\u001b[0m\u001b[1;33m\u001b[0m\u001b[1;33m\u001b[0m\u001b[0m\n\u001b[0m\u001b[0;32m    244\u001b[0m \u001b[1;33m\u001b[0m\u001b[0m\n\u001b[0;32m    245\u001b[0m     \u001b[1;32mdef\u001b[0m \u001b[0m_value_or_default\u001b[0m\u001b[1;33m(\u001b[0m\u001b[0mself\u001b[0m\u001b[1;33m,\u001b[0m \u001b[0mobj\u001b[0m\u001b[1;33m:\u001b[0m \u001b[0mMapping\u001b[0m\u001b[1;33m[\u001b[0m\u001b[0m_KT\u001b[0m\u001b[1;33m,\u001b[0m \u001b[0m_VT\u001b[0m\u001b[1;33m]\u001b[0m\u001b[1;33m,\u001b[0m \u001b[0mkey\u001b[0m\u001b[1;33m:\u001b[0m \u001b[0m_KT\u001b[0m\u001b[1;33m,\u001b[0m \u001b[0mdefault\u001b[0m\u001b[1;33m:\u001b[0m \u001b[0m_VT\u001b[0m\u001b[1;33m)\u001b[0m \u001b[1;33m->\u001b[0m \u001b[0m_VT\u001b[0m\u001b[1;33m:\u001b[0m\u001b[1;33m\u001b[0m\u001b[1;33m\u001b[0m\u001b[0m\n",
      "\u001b[1;31mWebDriverException\u001b[0m: Message: unknown error: cannot determine loading status\nfrom unknown error: unexpected command response\n  (Session info: chrome=103.0.5060.114)\nStacktrace:\nBacktrace:\n\tOrdinal0 [0x00B96463+2188387]\n\tOrdinal0 [0x00B2E461+1762401]\n\tOrdinal0 [0x00A43D78+802168]\n\tOrdinal0 [0x00A37210+750096]\n\tOrdinal0 [0x00A3675A+747354]\n\tOrdinal0 [0x00A35D3F+744767]\n\tOrdinal0 [0x00A34C28+740392]\n\tOrdinal0 [0x00A35228+741928]\n\tOrdinal0 [0x00A3EF2F+782127]\n\tOrdinal0 [0x00A49FBB+827323]\n\tOrdinal0 [0x00A4D310+840464]\n\tOrdinal0 [0x00A354F6+742646]\n\tOrdinal0 [0x00A49BF3+826355]\n\tOrdinal0 [0x00A9CF6D+1167213]\n\tOrdinal0 [0x00A8C5F6+1099254]\n\tOrdinal0 [0x00A66BE0+945120]\n\tOrdinal0 [0x00A67AD6+948950]\n\tGetHandleVerifier [0x00E371F2+2712546]\n\tGetHandleVerifier [0x00E2886D+2652765]\n\tGetHandleVerifier [0x00C2002A+520730]\n\tGetHandleVerifier [0x00C1EE06+516086]\n\tOrdinal0 [0x00B3468B+1787531]\n\tOrdinal0 [0x00B38E88+1805960]\n\tOrdinal0 [0x00B38F75+1806197]\n\tOrdinal0 [0x00B41DF1+1842673]\n\tBaseThreadInitThunk [0x7770FA29+25]\n\tRtlGetAppContainerNamedObjectPath [0x77857A9E+286]\n\tRtlGetAppContainerNamedObjectPath [0x77857A6E+238]\n"
     ]
    }
   ],
   "source": [
    "list_article_url = []\n",
    "print(\"[INFO] Scraping article urls ...\")\n",
    "for k, v in dict_cat_profile.items():\n",
    "    cat_name = k\n",
    "    url = v[\"url\"]\n",
    "    # r = requests.get(url)\n",
    "    browser.implicitly_wait(5)\n",
    "    browser.get(main_url+url)\n",
    "    browser.execute_script(\"window.scrollTo(0, document.body.scrollHeight);\")\n",
    "    html = browser.page_source\n",
    "    soup = BeautifulSoup(html)\n",
    "    article_div = soup.find_all(class_=\"cd__content\")\n",
    "    print(f\"[INFO] Scraping from {main_url+url}: found {len(article_div)} articles\")\n",
    "    list_article_url.extend([a.find(\"a\")[\"href\"] for a in article_div])\n",
    "    \n",
    "\n"
   ]
  },
  {
   "cell_type": "code",
   "execution_count": 147,
   "id": "dddcc4a7",
   "metadata": {},
   "outputs": [
    {
     "data": {
      "text/plain": [
       "False"
      ]
     },
     "execution_count": 147,
     "metadata": {},
     "output_type": "execute_result"
    }
   ],
   "source": [
    "def validate_article_url(url):\n",
    "    valid = True\n",
    "    if \"http\" in url:\n",
    "        valid = False\n",
    "        \n",
    "    if \"/video/\" in url:\n",
    "        valid = False\n",
    "        \n",
    "    if \"/videos/\" in url:\n",
    "        valid = False\n",
    "        \n",
    "    return valid\n",
    "\n",
    "validate_article_url('/videos/politics/2022/07/12/jake-tapper-john-bolton-debate-january-6-coup-attempt-sot-lead-vpx.cnn/video/playlists/this-week-in-politics/')"
   ]
  },
  {
   "cell_type": "code",
   "execution_count": 153,
   "id": "4c598d17",
   "metadata": {},
   "outputs": [],
   "source": [
    "list_valid_article_url = [url for url in list_article_url if validate_article_url(url)]"
   ]
  },
  {
   "cell_type": "code",
   "execution_count": 192,
   "id": "a4ba0162",
   "metadata": {},
   "outputs": [],
   "source": [
    "valid_article_url = list_valid_article_url[4]"
   ]
  },
  {
   "cell_type": "code",
   "execution_count": 193,
   "id": "325dd72f",
   "metadata": {
    "scrolled": true
   },
   "outputs": [
    {
     "name": "stdout",
     "output_type": "stream",
     "text": [
      "https://edition.cnn.com/2022/07/13/europe/ukraine-russia-next-stages-donetsk-intl/index.html\n"
     ]
    }
   ],
   "source": [
    "print(main_url+valid_article_url)\n",
    "r = requests.get(main_url+valid_article_url)\n",
    "# browser.implicitly_wait(5)\n",
    "# browser.get(main_url)\n",
    "# browser.execute_script(\"window.scrollTo(0, document.body.scrollHeight);\")\n",
    "main_soup = BeautifulSoup(r.content, \"html.parser\")"
   ]
  },
  {
   "cell_type": "code",
   "execution_count": 202,
   "id": "18845d42",
   "metadata": {},
   "outputs": [
    {
     "data": {
      "text/plain": [
       "'Two exhausted armies are battling for eastern Ukraine. Can either of them strike a decisive blow?'"
      ]
     },
     "execution_count": 202,
     "metadata": {},
     "output_type": "execute_result"
    }
   ],
   "source": [
    "#title\n",
    "main_soup.find(\"h1\").text"
   ]
  },
  {
   "cell_type": "code",
   "execution_count": 194,
   "id": "49f44177",
   "metadata": {},
   "outputs": [
    {
     "name": "stdout",
     "output_type": "stream",
     "text": [
      "<div class=\"metadata\"><div class=\"metadata__info js-byline-images\" data-bundle=\"byline\"><p class=\"metadata__byline\"><span class=\"metadata__byline__author\">Analysis by <a href=\"https://twitter.com/robpicheta\" target=\"_blank\">Rob Picheta</a>, CNN</span></p><p class=\"metadata__show\"></p><p class=\"update-time\">Updated 2141 GMT (0541 HKT) July 13, 2022 <span class=\"video__source top_source\" id=\"js-pagetop_video_source\"></span></p></div></div>\n"
     ]
    },
    {
     "data": {
      "text/plain": [
       "('Analysis by Rob Picheta, CNN',\n",
       " <a href=\"https://twitter.com/robpicheta\" target=\"_blank\">Rob Picheta</a>)"
      ]
     },
     "execution_count": 194,
     "metadata": {},
     "output_type": "execute_result"
    }
   ],
   "source": [
    "#metadata\n",
    "metadata_div = main_soup.find(class_=\"metadata\")\n",
    "print(metadata_div)\n",
    "author_div = metadata_div.find(class_=\"metadata__byline__author\")\n",
    "author_name = author_div.text\n",
    "author_url = author_div.find(\"a\")\n",
    "update_time = metadata_div.find(class_=\"update-time\").text\n",
    "author_name, author_url"
   ]
  },
  {
   "cell_type": "code",
   "execution_count": 195,
   "id": "b0a15333",
   "metadata": {},
   "outputs": [
    {
     "name": "stdout",
     "output_type": "stream",
     "text": [
      " (CNN)When Vladimir Putin refocused his war in Ukraine on the country's east three months ago, he did so bruised by the failures of his initial lunge towards Kyiv and desperate for a face-saving success.\n",
      "After a slow and bloody march through Luhansk was finalized with the capture of the city of Lysychansk, the Russian President might consider himself halfway there. \n",
      "But the war has arrived at another crossroads and fighters on both sides are steeling themselves for a third act of fighting that could tip the balance of the conflict. \n",
      "\"It's a very attritional struggle,\" said Justin Bronk, a senior research fellow for Airpower and Technology at the Royal United Services Institute (RUSI), describing the tone of the war after three months of fighting in Donbas.\n",
      "\"It's a struggle between two armies, both of whom have taken huge losses and are very close to exhaustion.\"\n",
      "Putin's next move is anticipated to be a drive into Donetsk, which if captured would fulfill the Kremlin's primary objective: overrunning the entire Donbas region of eastern Ukraine, which has housed Russian-backed separatist factions since 2014. \n",
      "But when and how that takes place is unclear. While Russia has continued intense airstrikes on various fronts in Ukraine, the US-based think tank Institute for the Study of War (ISW) said Sunday that Russian ground troops were in the middle of an operational pause to \"rest, refit, and reconstitute.\"\n",
      "That could give Ukraine's army time to prepare to defend the parts of Donetsk it still holds; chiefly the industrial belt running south from the city of Sloviansk. And the threat of Ukrainian counter-offensives elsewhere in the country, including the key southern city of Kherson, remains.\n",
      "The next phase of full-scale fighting, when it does break out, may not be the last. But it may determine the future of Ukraine's heartland region -- and analysts say it will go some considerable way to determining the war's results.\n",
      "\n",
      "Lessons from Luhansk\n",
      "The past three months of grueling, grinding warfare in Donbas have looked almost nothing like the opening act of Russia's invasion, which saw scattergun incursions from north, east and west and ended in a decisive failure to overrun Kyiv and other key Ukrainian cities.\n",
      "Instead, the Kremlin's refocused effort has tightened the boundaries of the war, zeroing in on a key path across Luhansk and towards Donetsk to which the bulk of Russia's resources were directed.\n",
      "\"The second phase of this war has seen Russia returning to basics,\" Max Bergmann, the director of the Europe program at the Center for Strategic and International Studies, told CNN.\n",
      "That has resulted in sluggish but steady progress for Russia, which has won several weekslong battles for strategic cities and exposed limitations in Ukraine's arsenal. \"They've used their mass, their artillery assets, and (have been) pummeling Ukrainian forces while operating in a slow grind,\" Bergmann said.\n",
      "Its advantages in weaponry and firepower have started to show. \"All of (Russia's) electronic warfare, air defense and armored formations can be concentrated on very small areas,\" allowing them to \"create local superiority\" over Ukraine's more stretched, defensive positions, said Bronk.\n",
      "\"Round one was a knockout for Ukraine. In round two, the Russians won on points,\" said Bergmann in his assessment of the war's opening phases.\n",
      "But three months of war has taken its toll on both armies, and the capture of Luhansk brings two exhausted militaries to an inflection point.\n",
      "\"Russian forces will likely continue to confine themselves to small-scale offensive actions as they rebuild forces and set conditions for a more significant offensive in the coming weeks or months,\" the ISW said on Thursday. \n",
      "Fighting has continued near the Donetsk-Luhansk border; the Ukrainian military on Friday listed more than 40 towns and villages in Donbas that have come under attack in the last 24 hours, acknowledging \"partial success\" of a Russian attempt to advance on one front near the city of Bakhmut.\n",
      "But the ISW nonetheless has assessed that an operational pause for Russian ground troops is underway, and the pace of Russian territorial gains dropped last week following their takeover of Luhansk.\n",
      "The benefits of some form of lull for both armies are obvious; Russia's depleted forces need recuperation, while Ukraine's military is in a race to receive, deliver and become familiar with Western equipment.\n",
      "\"Russian troops that fought through Severodonetsk and Lysychansk very likely do need a significant period in which to rest and refit before resuming large-scale offensive operations,\" according to the ISW.\n",
      "\"It seems like we're in a stasis, but it's a very unstable balance and we don't know which way it will break,\" Bergmann said. \"Behind the scenes, there will be a frantic effort on both sides to prepare for future offensives.\" Whichever side uses this period more effectively could be able to seize the upper hand when all-out fighting resumes.\n",
      "\n",
      "The war's next flashpoints\n",
      "Russia's anticipated next move will be to continue the path it has forged through Luhansk, moving into Ukrainian-controlled parts of Donetsk and attempting to wear down and encircle Ukrainian troops in that oblast too.\n",
      "Doing so would deliver the symbolically significant Donbas region to Moscow -- and complete the main objective that Putin laid out as he launched his invasion in February, when he falsely claimed that those regions are spiritually and culturally Russian, and that Russian speakers were being persecuted there.\n",
      "But if the timeline and tactics used in Luhansk are repeated in its neighbor region, it will take another bitter and bloody fight.\n",
      "\"There's two names that are sadly going to become very familiar\" as the key battles in the next phase of fighting -- the cities of Sloviansk and Kramatorsk, in northern Donetsk. \"I suspect they will be the next Severodonestk and Mariupol,\" said Samir Puri, a senior fellow in urban security and hybrid warfare at the International Institute for Strategic Studies (IISS), who worked as a ceasefire observer in Donbas between 2014 and 2015.\n",
      "Those cities have been primed to become flashpoints in the war for months; they now sit surrounded to the east and south by Russian-controlled territory and their capture would be a major breakthrough for the Kremlin.\n",
      "\"Probably, they will [attack Sloviansk]. Probably, that is why the incoming hits have become more frequent,\" the head of the city's military-civilian administration, Vadym Liakh, said on Wednesday, adding that currently Ukrainian forces were holding Moscow's armies on the Siverskyi Donets river. \n",
      "\"I think that as soon as the enemy is able to carry out assault operations, it will begin the destruction of the infrastructure and the city itself,\" Liakh said.\n",
      "The tenor of fighting in the region is likely to look similar to Russia's drives into cities like Severodonetsk and Lysychansk, whose fall marked the end of Ukraine's defense of Luhansk.\n",
      "Ukraine's defense is again expected to be stubborn. \"They want to make this as hard and long a slog as possible for the Russians,\" said Bergmann. \"That's how they have pursued this war; they have fought the Russians for every inch of territory, and when it becomes a tactical mistake to keep fighting they withdraw, but not precipitously.\"\n",
      "\"You fall back, but as you fall back, you fight.\"\n",
      "But as with Luhansk, Russia will hope to seize the front foot and grind down the Ukrainian resistance, which will struggle to launch effective offenses. \"(Ukraine) will have the ability to slowly bleed the Russians through Donetsk,\" but may lack the \"availability of infantry and armored formations that are equipped and fresh enough to punch forward,\" said Puri. \n",
      "\"They're having to experience a military metamorphosis to get to that offensive capability.\"\n",
      "There will, meanwhile, be flare-ups in other regions that could disrupt Russia's main objectives in Donbas.\n",
      "In recent weeks Ukraine has regained Snake Island and had some success with counter-offensives near Kherson, southern Ukraine, which are now ramping up and forcing Russia onto the defensive.\n",
      "On Monday night, the Ukrainian military struck what it said was a Russian ammunition depot in the town of Nova Kakhovka in Kherson region, in what appeared to be one of the largest attacks inside Russian-occupied territory since the war began. A Russian official said the Ukrainian strike was carried out with a long-range HIMARS artillery system supplied by the United States, but claimed the attack hit a fertilizer warehouse and homes. \n",
      "Ukraine has begun targeting Russian command posts and ammunition dumps far behind the front lines in both Kherson and Donbas, using newly supplied Western weaponry that has a much greater range than its previous artillery systems.\n",
      "Serhii Khlan, an advisor to the head of Kherson civil military administration, said Tuesday: \"We have already launched attacks along almost the entire front line\" -- and the Russians were now reinforcing their checkpoints \"because the partisan movement is intensifying in the Kherson region. He added that Russia is \"preparing for street battles\" in the city.\n",
      "\n",
      "Meanwhile, Ukrainian news outlet Ria-Melitopol reported last week that large amounts of Russian military equipment has been seen moving through Melitopol, including tank and armored vehicle convoys, towards Kherson and Zaporizhzhia. Last week, Russian-appointed authorities in the Kherson region arrested the elected Ukrainian mayor of the city, Ihor Kolykhaiev, hours before announcing plans for a referendum to join Russia.\n",
      "\"The focus for the Russians very much is still in that small area (in the Donbas), whereas for the Ukrainians it seems to be pushing forwards and creating a breakthrough in Kherson,\" Bronk said. Doing so \"would create really quite a serious problem for Russia.\"\n",
      "Kherson was seized and occupied by Russia in the early days of the invasion. If the Ukrainians were able to seize it back, it would disrupt Russian supply lines, cut its land bridge to Crimea and represent a significant boost to morale.\n",
      "\n",
      "Grasping for firepower\n",
      "Russia's war in Ukraine is pushing towards the six-month mark, and the course of its next phase will depend heavily on the firepower and weaponry each side can still draw on.\n",
      "The head of the Luhansk region military administration, Serhiy Hayday, said this week that Ukraine is inflicting significant losses on Russia's armies in the Donbas, and claimed that with the help of additional Western long-range weaponry, \"the advantage of the enemy in personnel will be leveled.\"\n",
      "The Russian Ministry of Defense does not regularly report the number of dead and injured among its forces and CNN could not independently verify Hayday's claims about Russian casualties. However, independent analysts and observers, including some Russian military bloggers, have criticized the effort made by Moscow to capture the city of Lysychansk, saying it was too costly.\n",
      "\"We'll get a good sense of the depths of Russia's military reserves\" as they push into Donbas, Bergmann said. \"The bombarding strategy works if you have a defense-industrial base that is pumping out munitions ... (but) they have huge stockpiles, huge reserves.\" It also forces an expensive and time-consuming effort to rebuild decimated cities like Mariupol, where virtually all infrastructure was destroyed during Russia's assault.\n",
      "\n",
      "Some analysts have speculated that Russia's increasing use of older, less precise missiles like the KH-22, first developed in the 1960s, suggests its reserves are becoming depleted. \n",
      "Soviet-era tanks have also been introduced to the frontlines; as early as May, 50-year-old T-62 tanks were being brought out of \"deep storage\" to assist the effort, according to British intelligence. \n",
      "Ukraine faces the opposite problem. The country is being sent vast swathes of high-tech, Western weaponry on which it is heavily reliant, and officials are asking at each opportunity for more. But the hodgepodge arrivals of various fighting systems from dozens of countries is providing Ukraine's military with both a lifeline and a headache.\n",
      "\"It's a bit of a logistical nightmare; they're getting lots of different versions (of weaponry) from lost of different countries,\" Bronk said. \"They don't take the same ammunition -- they have different logistics (and) different maintenance concerns.\" \n",
      "Once weapons arrive at the frontlines -- and that process requires a complex supply chain -- soldiers need to be taught how to use them. \n",
      "In some cases, that even requires troops to leave the country. The British army has in recent weeks trained hundreds of Ukrainian troops in Wiltshire, southern England, while Germany has said it plans to teach soldiers how to use the multiple launch rocket system Mars II.\n",
      "\"Ukriane has an immense logistical challenge: they have to shift a military that was rooted in Russian and Soviet equipment, and modernize towards using NATO equipment -- while fighting a war,\" Bergmann said.\n",
      "\"The big open question is whether (they) can really incorporate the Western weaponry they're receiving being Russia can reconstitute their forces.\"\n",
      "\n",
      "A lengthy war\n",
      "The focus of Ukraine's military and the watching West is on repelling Russia's next assault in the east.\n",
      "But if the pace of Russia's movement through Luhansk is replicated in Donetsk, the war would stretch into the fall and towards the winter -- and some analysts are starting to weigh the long-term implications of fighting.\n",
      "It is far from certain that Putin would halt his invasion if he were to take the entirety of the Donbas. \"I don't think the ambitions of the Russians (beyond the east) have completely dissolved,\" Bergmann said. \"They're really determined to control the Donbas, but if they can make gains they're going to try to make more gains.\" \n",
      "Should Putin look beyond the boundaries of Donbas, he may decide to push towards the banks of the Dnipro River, which bisects Ukraine from north to south. Doing so would represent an effort to seize half of the country, a move that would appall the West and considerably lengthen the war.\n",
      "NATO nations have repeatedly committed to supporting Ukraine regardless of how long the war takes. \n",
      "But economic factors will start to bite on all sides if the war is still waging next year. \"Even if you have the will (to support Ukraine), you may have significantly diminished capacity if the economy is tanking,\" Bronk said, noting spiraling inflation and the struggling financial health of Western nations. But the same is truer still for Russia, whose economy has been badly hit by sanctions.  \n",
      "Ukraine, too, has a potential economic disaster looming and so will continue to rely on Western financial support, as well as military aid. \"Its economy has been essentially destroyed by the Russian invasion,\" Bronk noted, with the ability to import and export through the Black Sea wiped away and its domestic grain production severely diminished this year. In April, the World Bank predicted Ukraine's economy would shrink by 45% this year.\n",
      "In that context, many Western countries could look to peace negotiations for a lifeline. The US and its allies have placed a renewed emphasis on the need for a negotiated settlement to end the war in recent weeks. \n",
      "But regardless of when and how the war ends, countries throughout the West are already seeking to bolster their own defenses to counter the Russian threat -- even while transporting weapons and intelligence to Ukraine.\n",
      "\"Russia has set itself on a course for serious, long-term confrontation with the West,\" Bronk said. \"(So) the west needs to balance supplying Ukraine with generating their own military capabilities.\" Russia, too, will look to preserve much of its military capability to act as a couterweight to NATO's forces in Europe.\n",
      "Zelensky told G7 leaders last month that he wanted to end the war in months, not years. \"He believes that a grinding conflict is not in the interest of the Ukrainian people,\" US national security adviser Jake Sullivan said after the meeting.\n",
      "Whether that is possible relies on numerous factors, many of which are beyond his control. But experts agree that the coming weeks and months of war in eastern Ukraine will go far in determining the future of Europe's largest land war in decades.\n",
      "\"The battlefield is going to determine what sort of diplomatic settlement is possible, and whether one is possible,\" Bergmann said. \"It's quite unpredictable how this will progress.\"\n",
      "CNN's Tim Lister, Vasco Cotovio and Olga Voitovych contributed reporting.\n"
     ]
    }
   ],
   "source": [
    "list_related_article_urls = []\n",
    "for p in main_soup.find_all(class_=\"zn-body__paragraph\"):\n",
    "    a_tags = p.find_all(\"a\")\n",
    "    for a in a_tags:\n",
    "        list_related_article_urls.append(a['href'])\n",
    "    print(p.text)"
   ]
  },
  {
   "cell_type": "code",
   "execution_count": 196,
   "id": "cf8d6f11",
   "metadata": {},
   "outputs": [
    {
     "data": {
      "text/plain": [
       "['http://www.cnn.com/2022/04/15/europe/donbas-region-ukraine-war-russia-explainer-intl/index.html',\n",
       " 'https://www.cnn.com/2022/07/03/europe/russia-ukraine-luhansk-lysychansk-intl/index.html',\n",
       " 'https://www.cnn.com/2022/04/15/europe/donbas-region-ukraine-war-russia-explainer-intl/index.html',\n",
       " 'http://www.cnn.com/2022/06/27/europe/russia-ukraine-war-tide-turning-lister-intl-hnk/index.html',\n",
       " 'https://www.understandingwar.org/backgrounder/russian-offensive-campaign-assessment-july-7',\n",
       " 'https://twitter.com/DefenceHQ/status/1530055732271452161',\n",
       " 'https://www.cnn.com/europe/live-news/russia-ukraine-war-news-07-06-22/h_7c51806872728ce6ee905df2b99fe1e3',\n",
       " 'https://www.cnn.com/2022/06/03/politics/ukraine-100-days-western-allies-regular-meetings-potential-ceasefire/index.html']"
      ]
     },
     "execution_count": 196,
     "metadata": {},
     "output_type": "execute_result"
    }
   ],
   "source": [
    "list_related_article_urls"
   ]
  },
  {
   "cell_type": "code",
   "execution_count": null,
   "id": "5ca9390d",
   "metadata": {},
   "outputs": [],
   "source": []
  },
  {
   "cell_type": "code",
   "execution_count": null,
   "id": "0a97aec7",
   "metadata": {},
   "outputs": [],
   "source": []
  }
 ],
 "metadata": {
  "kernelspec": {
   "display_name": "Python 3 (ipykernel)",
   "language": "python",
   "name": "python3"
  },
  "language_info": {
   "codemirror_mode": {
    "name": "ipython",
    "version": 3
   },
   "file_extension": ".py",
   "mimetype": "text/x-python",
   "name": "python",
   "nbconvert_exporter": "python",
   "pygments_lexer": "ipython3",
   "version": "3.7.11"
  }
 },
 "nbformat": 4,
 "nbformat_minor": 5
}
