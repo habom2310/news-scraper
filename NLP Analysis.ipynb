{
 "cells": [
  {
   "cell_type": "code",
   "execution_count": null,
   "id": "92ff2cce",
   "metadata": {},
   "outputs": [],
   "source": [
    "from src.backend.lib.postgresql_client import Base, PostgresClient\n",
    "from src.backend.lib.models import Article"
   ]
  },
  {
   "cell_type": "code",
   "execution_count": null,
   "id": "77616d42",
   "metadata": {},
   "outputs": [],
   "source": []
  }
 ],
 "metadata": {
  "kernelspec": {
   "display_name": "Python 3 (ipykernel)",
   "language": "python",
   "name": "python3"
  },
  "language_info": {
   "codemirror_mode": {
    "name": "ipython",
    "version": 3
   },
   "file_extension": ".py",
   "mimetype": "text/x-python",
   "name": "python",
   "nbconvert_exporter": "python",
   "pygments_lexer": "ipython3",
   "version": "3.8.13"
  }
 },
 "nbformat": 4,
 "nbformat_minor": 5
}
