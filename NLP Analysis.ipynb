{
 "cells": [
  {
   "cell_type": "code",
   "execution_count": 47,
   "id": "73a95b0b",
   "metadata": {},
   "outputs": [],
   "source": [
    "from src.backend.lib.postgresql_client import Base, PostgresClient\n",
    "from src.backend.lib.models import Article\n",
    "\n",
    "import pandas as pd\n",
    "import numpy as np\n",
    "import nltk\n",
    "import matplotlib.pyplot as plt\n",
    "import seaborn as sns\n",
    "sns.set(style='darkgrid', context='talk', palette='Dark2')"
   ]
  },
  {
   "cell_type": "markdown",
   "id": "5e263784",
   "metadata": {},
   "source": [
    "# Query from DB"
   ]
  },
  {
   "cell_type": "code",
   "execution_count": 48,
   "id": "ce2ecd9a",
   "metadata": {},
   "outputs": [],
   "source": [
    "db = PostgresClient()\n",
    "engine = db.engine"
   ]
  },
  {
   "cell_type": "code",
   "execution_count": 49,
   "id": "a655070d",
   "metadata": {},
   "outputs": [],
   "source": [
    "# Base.metadata.drop_all(bind=engine, tables=[Postgres_Article.__table__])"
   ]
  },
  {
   "cell_type": "code",
   "execution_count": 50,
   "id": "d5bb39d2",
   "metadata": {},
   "outputs": [
    {
     "data": {
      "text/html": [
       "<div>\n",
       "<style scoped>\n",
       "    .dataframe tbody tr th:only-of-type {\n",
       "        vertical-align: middle;\n",
       "    }\n",
       "\n",
       "    .dataframe tbody tr th {\n",
       "        vertical-align: top;\n",
       "    }\n",
       "\n",
       "    .dataframe thead th {\n",
       "        text-align: right;\n",
       "    }\n",
       "</style>\n",
       "<table border=\"1\" class=\"dataframe\">\n",
       "  <thead>\n",
       "    <tr style=\"text-align: right;\">\n",
       "      <th></th>\n",
       "      <th>article_id</th>\n",
       "      <th>title</th>\n",
       "      <th>href</th>\n",
       "      <th>publish_date</th>\n",
       "      <th>newspaper</th>\n",
       "      <th>category</th>\n",
       "      <th>author_id</th>\n",
       "      <th>author_fullname</th>\n",
       "      <th>content</th>\n",
       "      <th>related_articles</th>\n",
       "      <th>sentimental</th>\n",
       "      <th>keywords</th>\n",
       "    </tr>\n",
       "  </thead>\n",
       "  <tbody>\n",
       "    <tr>\n",
       "      <th>0</th>\n",
       "      <td>1</td>\n",
       "      <td>A hypothetical weather forecast for 2050 is co...</td>\n",
       "      <td>/2022/07/15/weather/2050-uk-forecast-comes-tru...</td>\n",
       "      <td>2022-07-15</td>\n",
       "      <td>CNN</td>\n",
       "      <td>World</td>\n",
       "      <td></td>\n",
       "      <td>Analysis by Angela Fritz, CNN Senior Climate E...</td>\n",
       "      <td>The climate crisis is pushing weather to the e...</td>\n",
       "      <td>None</td>\n",
       "      <td>None</td>\n",
       "      <td>None</td>\n",
       "    </tr>\n",
       "    <tr>\n",
       "      <th>1</th>\n",
       "      <td>2</td>\n",
       "      <td>Filipinos are buying books to preserve the tru...</td>\n",
       "      <td>/2022/07/16/asia/philippines-marcos-books-trut...</td>\n",
       "      <td>2022-07-17</td>\n",
       "      <td>CNN</td>\n",
       "      <td>World</td>\n",
       "      <td></td>\n",
       "      <td>By Kathleen Magramo, CNN</td>\n",
       "      <td>The rush to buy books documenting Marcos' dest...</td>\n",
       "      <td>None</td>\n",
       "      <td>None</td>\n",
       "      <td>None</td>\n",
       "    </tr>\n",
       "    <tr>\n",
       "      <th>2</th>\n",
       "      <td>3</td>\n",
       "      <td>Exclusive: Russians have visited Iran at least...</td>\n",
       "      <td>/2022/07/15/politics/russian-visit-iran-weapon...</td>\n",
       "      <td>2022-07-16</td>\n",
       "      <td>CNN</td>\n",
       "      <td>World</td>\n",
       "      <td></td>\n",
       "      <td>By Natasha Bertrand, CNN</td>\n",
       "      <td>Iran began showcasing the Shahed-191 and Shahe...</td>\n",
       "      <td>None</td>\n",
       "      <td>None</td>\n",
       "      <td>None</td>\n",
       "    </tr>\n",
       "    <tr>\n",
       "      <th>3</th>\n",
       "      <td>4</td>\n",
       "      <td>Mexico detains drug lord wanted by US as 14 ki...</td>\n",
       "      <td>/2022/07/15/americas/mexico-rafael-caro-quinte...</td>\n",
       "      <td>2022-07-16</td>\n",
       "      <td>CNN</td>\n",
       "      <td>World</td>\n",
       "      <td></td>\n",
       "      <td>By Tara Subramaniam, Karol Suarez and Rey Rodr...</td>\n",
       "      <td>Rafael Caro Quintero was detained by Marines a...</td>\n",
       "      <td>None</td>\n",
       "      <td>None</td>\n",
       "      <td>None</td>\n",
       "    </tr>\n",
       "    <tr>\n",
       "      <th>4</th>\n",
       "      <td>5</td>\n",
       "      <td>Ukraine's harvest becomes the new battlefield,...</td>\n",
       "      <td>/2022/07/11/europe/ukraine-harvest-battlefield...</td>\n",
       "      <td>2022-07-16</td>\n",
       "      <td>CNN</td>\n",
       "      <td>World</td>\n",
       "      <td></td>\n",
       "      <td>By Tim Lister and Petro Zadorozhnyy, CNN</td>\n",
       "      <td>The conflict's front lines straddle some of Uk...</td>\n",
       "      <td>None</td>\n",
       "      <td>None</td>\n",
       "      <td>None</td>\n",
       "    </tr>\n",
       "  </tbody>\n",
       "</table>\n",
       "</div>"
      ],
      "text/plain": [
       "   article_id                                              title  \\\n",
       "0           1  A hypothetical weather forecast for 2050 is co...   \n",
       "1           2  Filipinos are buying books to preserve the tru...   \n",
       "2           3  Exclusive: Russians have visited Iran at least...   \n",
       "3           4  Mexico detains drug lord wanted by US as 14 ki...   \n",
       "4           5  Ukraine's harvest becomes the new battlefield,...   \n",
       "\n",
       "                                                href publish_date newspaper  \\\n",
       "0  /2022/07/15/weather/2050-uk-forecast-comes-tru...   2022-07-15       CNN   \n",
       "1  /2022/07/16/asia/philippines-marcos-books-trut...   2022-07-17       CNN   \n",
       "2  /2022/07/15/politics/russian-visit-iran-weapon...   2022-07-16       CNN   \n",
       "3  /2022/07/15/americas/mexico-rafael-caro-quinte...   2022-07-16       CNN   \n",
       "4  /2022/07/11/europe/ukraine-harvest-battlefield...   2022-07-16       CNN   \n",
       "\n",
       "  category author_id                                    author_fullname  \\\n",
       "0    World            Analysis by Angela Fritz, CNN Senior Climate E...   \n",
       "1    World                                     By Kathleen Magramo, CNN   \n",
       "2    World                                     By Natasha Bertrand, CNN   \n",
       "3    World            By Tara Subramaniam, Karol Suarez and Rey Rodr...   \n",
       "4    World                     By Tim Lister and Petro Zadorozhnyy, CNN   \n",
       "\n",
       "                                             content related_articles  \\\n",
       "0  The climate crisis is pushing weather to the e...             None   \n",
       "1  The rush to buy books documenting Marcos' dest...             None   \n",
       "2  Iran began showcasing the Shahed-191 and Shahe...             None   \n",
       "3  Rafael Caro Quintero was detained by Marines a...             None   \n",
       "4  The conflict's front lines straddle some of Uk...             None   \n",
       "\n",
       "  sentimental keywords  \n",
       "0        None     None  \n",
       "1        None     None  \n",
       "2        None     None  \n",
       "3        None     None  \n",
       "4        None     None  "
      ]
     },
     "execution_count": 50,
     "metadata": {},
     "output_type": "execute_result"
    }
   ],
   "source": [
    "sql_query =f\"\"\"SELECT * FROM articles;\"\"\"\n",
    "df = pd.read_sql_query(sql_query, engine)\n",
    "df.head()"
   ]
  },
  {
   "cell_type": "markdown",
   "id": "d8deed11",
   "metadata": {},
   "source": [
    "## Stats"
   ]
  },
  {
   "cell_type": "code",
   "execution_count": 51,
   "id": "6513346a",
   "metadata": {},
   "outputs": [
    {
     "data": {
      "text/plain": [
       "<AxesSubplot:title={'center':'Count'}, xlabel='Category', ylabel='Number of Articles'>"
      ]
     },
     "execution_count": 51,
     "metadata": {},
     "output_type": "execute_result"
    },
    {
     "data": {
      "image/png": "[encoded data removed]",
      "text/plain": [
       "<Figure size 864x576 with 1 Axes>"
      ]
     },
     "metadata": {},
     "output_type": "display_data"
    }
   ],
   "source": [
    "df_stats = df.groupby([\"category\"]).count()\n",
    "df_stats[\"content\"].plot(kind='bar', title='Count', ylabel='Number of Articles',\n",
    "         xlabel='Category', figsize=(12, 8))"
   ]
  },
  {
   "cell_type": "code",
   "execution_count": null,
   "id": "46119d7f",
   "metadata": {},
   "outputs": [],
   "source": []
  },
  {
   "cell_type": "code",
   "execution_count": 52,
   "id": "fd2b978b",
   "metadata": {},
   "outputs": [],
   "source": []
  },
  {
   "cell_type": "markdown",
   "id": "9efce5a0",
   "metadata": {},
   "source": [
    "# Sentimental analysis"
   ]
  },
  {
   "cell_type": "markdown",
   "id": "97b21a1f",
   "metadata": {},
   "source": [
    "Do analysis with articles in Business:\n",
    "\n",
    "- Apply a filter to choose only category Business.\n",
    "- (Optional) filter out articles published more then n days ago.\n"
   ]
  },
  {
   "cell_type": "code",
   "execution_count": 53,
   "id": "5af9e625",
   "metadata": {},
   "outputs": [
    {
     "name": "stdout",
     "output_type": "stream",
     "text": [
      "50\n"
     ]
    },
    {
     "data": {
      "text/html": [
       "<div>\n",
       "<style scoped>\n",
       "    .dataframe tbody tr th:only-of-type {\n",
       "        vertical-align: middle;\n",
       "    }\n",
       "\n",
       "    .dataframe tbody tr th {\n",
       "        vertical-align: top;\n",
       "    }\n",
       "\n",
       "    .dataframe thead th {\n",
       "        text-align: right;\n",
       "    }\n",
       "</style>\n",
       "<table border=\"1\" class=\"dataframe\">\n",
       "  <thead>\n",
       "    <tr style=\"text-align: right;\">\n",
       "      <th></th>\n",
       "      <th>article_id</th>\n",
       "      <th>title</th>\n",
       "      <th>href</th>\n",
       "      <th>publish_date</th>\n",
       "      <th>newspaper</th>\n",
       "      <th>category</th>\n",
       "      <th>author_id</th>\n",
       "      <th>author_fullname</th>\n",
       "      <th>content</th>\n",
       "      <th>related_articles</th>\n",
       "      <th>sentimental</th>\n",
       "      <th>keywords</th>\n",
       "    </tr>\n",
       "  </thead>\n",
       "  <tbody>\n",
       "    <tr>\n",
       "      <th>107</th>\n",
       "      <td>107</td>\n",
       "      <td>How companies subtly trick users online with '...</td>\n",
       "      <td>/2022/07/16/tech/dark-patterns-what-to-know/in...</td>\n",
       "      <td>2022-07-16</td>\n",
       "      <td>CNN</td>\n",
       "      <td>Business</td>\n",
       "      <td></td>\n",
       "      <td>By Catherine Thorbecke, CNN Business</td>\n",
       "      <td>Countless popular websites and apps, from reta...</td>\n",
       "      <td>None</td>\n",
       "      <td>None</td>\n",
       "      <td>None</td>\n",
       "    </tr>\n",
       "    <tr>\n",
       "      <th>108</th>\n",
       "      <td>108</td>\n",
       "      <td>Americans are feeling slightly better about th...</td>\n",
       "      <td>/2022/07/15/economy/consumer-sentiment-july-pr...</td>\n",
       "      <td>2022-07-15</td>\n",
       "      <td>CNN</td>\n",
       "      <td>Business</td>\n",
       "      <td></td>\n",
       "      <td>By Alicia Wallace, CNN Business</td>\n",
       "      <td>The preliminary index for the university's Sur...</td>\n",
       "      <td>None</td>\n",
       "      <td>None</td>\n",
       "      <td>None</td>\n",
       "    </tr>\n",
       "    <tr>\n",
       "      <th>109</th>\n",
       "      <td>109</td>\n",
       "      <td>Energy saved US markets last quarter. Now the ...</td>\n",
       "      <td>/2022/07/15/investing/premarket-stocks-trading...</td>\n",
       "      <td>2022-07-15</td>\n",
       "      <td>CNN</td>\n",
       "      <td>Business</td>\n",
       "      <td></td>\n",
       "      <td>By Nicole Goodkind, CNN Business</td>\n",
       "      <td>A version of this story first appeared in CNN ...</td>\n",
       "      <td>None</td>\n",
       "      <td>None</td>\n",
       "      <td>None</td>\n",
       "    </tr>\n",
       "    <tr>\n",
       "      <th>110</th>\n",
       "      <td>110</td>\n",
       "      <td>Employers who want workers in the office more ...</td>\n",
       "      <td>/2022/07/15/success/hybrid-work-employees/inde...</td>\n",
       "      <td>2022-07-15</td>\n",
       "      <td>CNN</td>\n",
       "      <td>Business</td>\n",
       "      <td></td>\n",
       "      <td>By Kathryn Vasel, CNN Business</td>\n",
       "      <td>But some employees, who have spent the last tw...</td>\n",
       "      <td>None</td>\n",
       "      <td>None</td>\n",
       "      <td>None</td>\n",
       "    </tr>\n",
       "    <tr>\n",
       "      <th>111</th>\n",
       "      <td>111</td>\n",
       "      <td>For the first time since 1989, the Super Bowl ...</td>\n",
       "      <td>/2022/07/15/business-food/anheuser-busch-molso...</td>\n",
       "      <td>2022-07-15</td>\n",
       "      <td>CNN</td>\n",
       "      <td>Business</td>\n",
       "      <td></td>\n",
       "      <td>By Ramishah Maruf, CNN Business</td>\n",
       "      <td>Anheuser-Busch is ending its more-than-33-year...</td>\n",
       "      <td>None</td>\n",
       "      <td>None</td>\n",
       "      <td>None</td>\n",
       "    </tr>\n",
       "  </tbody>\n",
       "</table>\n",
       "</div>"
      ],
      "text/plain": [
       "     article_id                                              title  \\\n",
       "107         107  How companies subtly trick users online with '...   \n",
       "108         108  Americans are feeling slightly better about th...   \n",
       "109         109  Energy saved US markets last quarter. Now the ...   \n",
       "110         110  Employers who want workers in the office more ...   \n",
       "111         111  For the first time since 1989, the Super Bowl ...   \n",
       "\n",
       "                                                  href publish_date newspaper  \\\n",
       "107  /2022/07/16/tech/dark-patterns-what-to-know/in...   2022-07-16       CNN   \n",
       "108  /2022/07/15/economy/consumer-sentiment-july-pr...   2022-07-15       CNN   \n",
       "109  /2022/07/15/investing/premarket-stocks-trading...   2022-07-15       CNN   \n",
       "110  /2022/07/15/success/hybrid-work-employees/inde...   2022-07-15       CNN   \n",
       "111  /2022/07/15/business-food/anheuser-busch-molso...   2022-07-15       CNN   \n",
       "\n",
       "     category author_id                       author_fullname  \\\n",
       "107  Business            By Catherine Thorbecke, CNN Business   \n",
       "108  Business                 By Alicia Wallace, CNN Business   \n",
       "109  Business                By Nicole Goodkind, CNN Business   \n",
       "110  Business                  By Kathryn Vasel, CNN Business   \n",
       "111  Business                 By Ramishah Maruf, CNN Business   \n",
       "\n",
       "                                               content related_articles  \\\n",
       "107  Countless popular websites and apps, from reta...             None   \n",
       "108  The preliminary index for the university's Sur...             None   \n",
       "109  A version of this story first appeared in CNN ...             None   \n",
       "110  But some employees, who have spent the last tw...             None   \n",
       "111  Anheuser-Busch is ending its more-than-33-year...             None   \n",
       "\n",
       "    sentimental keywords  \n",
       "107        None     None  \n",
       "108        None     None  \n",
       "109        None     None  \n",
       "110        None     None  \n",
       "111        None     None  "
      ]
     },
     "execution_count": 53,
     "metadata": {},
     "output_type": "execute_result"
    }
   ],
   "source": [
    "from datetime import timedelta, date\n",
    "\n",
    "published_in_n_latest_days = 5\n",
    "df_business = df[(df.category == \"Business\") & ((date.today() - df.publish_date) < timedelta(days=published_in_n_latest_days))]\n",
    "print(len(df_business))\n",
    "df_business.head()"
   ]
  },
  {
   "cell_type": "code",
   "execution_count": null,
   "id": "729865fe",
   "metadata": {},
   "outputs": [],
   "source": [
    "list_title = df.title.values\n",
    "list_content = df.content.values"
   ]
  },
  {
   "cell_type": "markdown",
   "id": "7b90b00f",
   "metadata": {},
   "source": [
    "## Sentimental analysis with nltk"
   ]
  },
  {
   "cell_type": "code",
   "execution_count": 54,
   "id": "6903eaf8",
   "metadata": {},
   "outputs": [],
   "source": [
    "import nltk\n",
    "from nltk.sentiment.vader import SentimentIntensityAnalyzer as SIA"
   ]
  },
  {
   "cell_type": "markdown",
   "id": "c1673496",
   "metadata": {},
   "source": [
    "Use the Vader Sentiment Analyzer in nltk to simply rank a piece of text as positive, negative or neutral using a lexicon of positive and negative words."
   ]
  },
  {
   "cell_type": "code",
   "execution_count": 55,
   "id": "b1fae74e",
   "metadata": {},
   "outputs": [],
   "source": [
    "# nltk.download('vader_lexicon')"
   ]
  },
  {
   "cell_type": "code",
   "execution_count": 69,
   "id": "0f7608fc",
   "metadata": {},
   "outputs": [
    {
     "data": {
      "text/html": [
       "<div>\n",
       "<style scoped>\n",
       "    .dataframe tbody tr th:only-of-type {\n",
       "        vertical-align: middle;\n",
       "    }\n",
       "\n",
       "    .dataframe tbody tr th {\n",
       "        vertical-align: top;\n",
       "    }\n",
       "\n",
       "    .dataframe thead th {\n",
       "        text-align: right;\n",
       "    }\n",
       "</style>\n",
       "<table border=\"1\" class=\"dataframe\">\n",
       "  <thead>\n",
       "    <tr style=\"text-align: right;\">\n",
       "      <th></th>\n",
       "      <th>neg</th>\n",
       "      <th>neu</th>\n",
       "      <th>pos</th>\n",
       "      <th>compound</th>\n",
       "      <th>content</th>\n",
       "    </tr>\n",
       "  </thead>\n",
       "  <tbody>\n",
       "    <tr>\n",
       "      <th>0</th>\n",
       "      <td>0.000</td>\n",
       "      <td>0.763</td>\n",
       "      <td>0.237</td>\n",
       "      <td>0.4215</td>\n",
       "      <td>A hypothetical weather forecast for 2050 is co...</td>\n",
       "    </tr>\n",
       "    <tr>\n",
       "      <th>1</th>\n",
       "      <td>0.000</td>\n",
       "      <td>0.827</td>\n",
       "      <td>0.173</td>\n",
       "      <td>0.3182</td>\n",
       "      <td>Filipinos are buying books to preserve the tru...</td>\n",
       "    </tr>\n",
       "    <tr>\n",
       "      <th>2</th>\n",
       "      <td>0.000</td>\n",
       "      <td>0.903</td>\n",
       "      <td>0.097</td>\n",
       "      <td>0.1280</td>\n",
       "      <td>Exclusive: Russians have visited Iran at least...</td>\n",
       "    </tr>\n",
       "    <tr>\n",
       "      <th>3</th>\n",
       "      <td>0.356</td>\n",
       "      <td>0.644</td>\n",
       "      <td>0.000</td>\n",
       "      <td>-0.8020</td>\n",
       "      <td>Mexico detains drug lord wanted by US as 14 ki...</td>\n",
       "    </tr>\n",
       "    <tr>\n",
       "      <th>4</th>\n",
       "      <td>0.191</td>\n",
       "      <td>0.809</td>\n",
       "      <td>0.000</td>\n",
       "      <td>-0.3818</td>\n",
       "      <td>Ukraine's harvest becomes the new battlefield,...</td>\n",
       "    </tr>\n",
       "  </tbody>\n",
       "</table>\n",
       "</div>"
      ],
      "text/plain": [
       "     neg    neu    pos  compound  \\\n",
       "0  0.000  0.763  0.237    0.4215   \n",
       "1  0.000  0.827  0.173    0.3182   \n",
       "2  0.000  0.903  0.097    0.1280   \n",
       "3  0.356  0.644  0.000   -0.8020   \n",
       "4  0.191  0.809  0.000   -0.3818   \n",
       "\n",
       "                                             content  \n",
       "0  A hypothetical weather forecast for 2050 is co...  \n",
       "1  Filipinos are buying books to preserve the tru...  \n",
       "2  Exclusive: Russians have visited Iran at least...  \n",
       "3  Mexico detains drug lord wanted by US as 14 ki...  \n",
       "4  Ukraine's harvest becomes the new battlefield,...  "
      ]
     },
     "execution_count": 69,
     "metadata": {},
     "output_type": "execute_result"
    }
   ],
   "source": [
    "sia = SIA()\n",
    "results = []\n",
    "\n",
    "for content in list_title:\n",
    "    pol_score = sia.polarity_scores(content)\n",
    "    pol_score['content'] = content\n",
    "    results.append(pol_score)\n",
    "\n",
    "df_sia = pd.DataFrame.from_records(results)\n",
    "df_sia.head()"
   ]
  },
  {
   "cell_type": "markdown",
   "id": "a73e9815",
   "metadata": {},
   "source": [
    "Compound ranges from -1 (extremely negative) to 1 (extremely positive). Choose threshold of 0.3 (-0.3) to decide whether it is neg/pos"
   ]
  },
  {
   "cell_type": "code",
   "execution_count": 70,
   "id": "16fe596b",
   "metadata": {},
   "outputs": [
    {
     "data": {
      "text/html": [
       "<div>\n",
       "<style scoped>\n",
       "    .dataframe tbody tr th:only-of-type {\n",
       "        vertical-align: middle;\n",
       "    }\n",
       "\n",
       "    .dataframe tbody tr th {\n",
       "        vertical-align: top;\n",
       "    }\n",
       "\n",
       "    .dataframe thead th {\n",
       "        text-align: right;\n",
       "    }\n",
       "</style>\n",
       "<table border=\"1\" class=\"dataframe\">\n",
       "  <thead>\n",
       "    <tr style=\"text-align: right;\">\n",
       "      <th></th>\n",
       "      <th>neg</th>\n",
       "      <th>neu</th>\n",
       "      <th>pos</th>\n",
       "      <th>compound</th>\n",
       "      <th>content</th>\n",
       "      <th>label</th>\n",
       "    </tr>\n",
       "  </thead>\n",
       "  <tbody>\n",
       "    <tr>\n",
       "      <th>0</th>\n",
       "      <td>0.000</td>\n",
       "      <td>0.763</td>\n",
       "      <td>0.237</td>\n",
       "      <td>0.4215</td>\n",
       "      <td>A hypothetical weather forecast for 2050 is co...</td>\n",
       "      <td>positive</td>\n",
       "    </tr>\n",
       "    <tr>\n",
       "      <th>1</th>\n",
       "      <td>0.000</td>\n",
       "      <td>0.827</td>\n",
       "      <td>0.173</td>\n",
       "      <td>0.3182</td>\n",
       "      <td>Filipinos are buying books to preserve the tru...</td>\n",
       "      <td>positive</td>\n",
       "    </tr>\n",
       "    <tr>\n",
       "      <th>2</th>\n",
       "      <td>0.000</td>\n",
       "      <td>0.903</td>\n",
       "      <td>0.097</td>\n",
       "      <td>0.1280</td>\n",
       "      <td>Exclusive: Russians have visited Iran at least...</td>\n",
       "      <td>neutral</td>\n",
       "    </tr>\n",
       "    <tr>\n",
       "      <th>3</th>\n",
       "      <td>0.356</td>\n",
       "      <td>0.644</td>\n",
       "      <td>0.000</td>\n",
       "      <td>-0.8020</td>\n",
       "      <td>Mexico detains drug lord wanted by US as 14 ki...</td>\n",
       "      <td>negative</td>\n",
       "    </tr>\n",
       "    <tr>\n",
       "      <th>4</th>\n",
       "      <td>0.191</td>\n",
       "      <td>0.809</td>\n",
       "      <td>0.000</td>\n",
       "      <td>-0.3818</td>\n",
       "      <td>Ukraine's harvest becomes the new battlefield,...</td>\n",
       "      <td>negative</td>\n",
       "    </tr>\n",
       "  </tbody>\n",
       "</table>\n",
       "</div>"
      ],
      "text/plain": [
       "     neg    neu    pos  compound  \\\n",
       "0  0.000  0.763  0.237    0.4215   \n",
       "1  0.000  0.827  0.173    0.3182   \n",
       "2  0.000  0.903  0.097    0.1280   \n",
       "3  0.356  0.644  0.000   -0.8020   \n",
       "4  0.191  0.809  0.000   -0.3818   \n",
       "\n",
       "                                             content     label  \n",
       "0  A hypothetical weather forecast for 2050 is co...  positive  \n",
       "1  Filipinos are buying books to preserve the tru...  positive  \n",
       "2  Exclusive: Russians have visited Iran at least...   neutral  \n",
       "3  Mexico detains drug lord wanted by US as 14 ki...  negative  \n",
       "4  Ukraine's harvest becomes the new battlefield,...  negative  "
      ]
     },
     "execution_count": 70,
     "metadata": {},
     "output_type": "execute_result"
    }
   ],
   "source": [
    "df_sia['label'] = 0\n",
    "df_sia.loc[df_sia['compound'] > 0.3, 'label'] = \"positive\"\n",
    "df_sia.loc[df_sia['compound'] < -0.3, 'label'] = \"negative\"\n",
    "df_sia.loc[df_sia['label'] == 0, 'label'] = \"neutral\"\n",
    "\n",
    "df_sia.head()"
   ]
  },
  {
   "cell_type": "code",
   "execution_count": 71,
   "id": "e5a0115d",
   "metadata": {},
   "outputs": [
    {
     "data": {
      "text/plain": [
       "<seaborn.axisgrid.FacetGrid at 0x1d2065e6248>"
      ]
     },
     "execution_count": 71,
     "metadata": {},
     "output_type": "execute_result"
    },
    {
     "data": {
      "image/png": "[encoded data removed]",
      "text/plain": [
       "<Figure size 482.15x360 with 1 Axes>"
      ]
     },
     "metadata": {},
     "output_type": "display_data"
    }
   ],
   "source": [
    "sns.displot(df_sia, x=\"label\", hue=\"label\",stat=\"probability\")"
   ]
  },
  {
   "cell_type": "code",
   "execution_count": null,
   "id": "934a9249",
   "metadata": {},
   "outputs": [],
   "source": []
  },
  {
   "cell_type": "code",
   "execution_count": 72,
   "id": "603bf7b0",
   "metadata": {},
   "outputs": [],
   "source": [
    "from nltk.tokenize import word_tokenize, RegexpTokenizer\n",
    "from nltk.corpus import stopwords\n",
    "\n",
    "# nltk.download('stopwords')"
   ]
  },
  {
   "cell_type": "code",
   "execution_count": 73,
   "id": "f6cc53e7",
   "metadata": {},
   "outputs": [],
   "source": [
    "stop_words = stopwords.words('english')"
   ]
  },
  {
   "cell_type": "code",
   "execution_count": 74,
   "id": "25e146cb",
   "metadata": {},
   "outputs": [],
   "source": [
    "def process_text(contents):\n",
    "    tokens = []\n",
    "    for content in contents:\n",
    "        toks = tokenizer.tokenize(content)\n",
    "        toks = [t.lower() for t in toks if t.lower() not in stop_words]\n",
    "        tokens.extend(toks)\n",
    "    \n",
    "    return tokens"
   ]
  },
  {
   "cell_type": "code",
   "execution_count": 75,
   "id": "e97cb0f9",
   "metadata": {},
   "outputs": [
    {
     "data": {
      "text/plain": [
       "[('biden', 10),\n",
       " ('new', 9),\n",
       " ('could', 9),\n",
       " ('help', 6),\n",
       " ('reveals', 6),\n",
       " ('best', 6),\n",
       " ('monkeypox', 6),\n",
       " ('stay', 6),\n",
       " ('safe', 6),\n",
       " ('spreads', 6),\n",
       " ('nurse', 6),\n",
       " ('midwives', 6),\n",
       " ('fill', 6),\n",
       " ('gap', 6),\n",
       " ('prenatal', 6),\n",
       " ('care', 6),\n",
       " ('rural', 6),\n",
       " ('hospitals', 6),\n",
       " ('shut', 6),\n",
       " ('labor', 6)]"
      ]
     },
     "execution_count": 75,
     "metadata": {},
     "output_type": "execute_result"
    }
   ],
   "source": [
    "tokenizer = RegexpTokenizer(r'\\w+')\n",
    "\n",
    "pos_lines = df_sia[df_sia.label == \"positive\"].content.values\n",
    "\n",
    "pos_tokens = process_text(pos_lines)\n",
    "pos_freq = nltk.FreqDist(pos_tokens)\n",
    "\n",
    "pos_freq.most_common(20)"
   ]
  },
  {
   "cell_type": "code",
   "execution_count": 78,
   "id": "e9f757b7",
   "metadata": {},
   "outputs": [
    {
     "data": {
      "image/png": "[encoded data removed]",
      "text/plain": [
       "<Figure size 720x360 with 1 Axes>"
      ]
     },
     "metadata": {},
     "output_type": "display_data"
    }
   ],
   "source": [
    "y_val = [x[1] for x in pos_freq.most_common()]\n",
    "\n",
    "fig = plt.figure(figsize=(10,5))\n",
    "plt.plot(y_val)\n",
    "\n",
    "plt.xlabel(\"Words\")\n",
    "plt.ylabel(\"Frequency\")\n",
    "plt.title(\"Word Frequency Distribution Among Article Titles (Positive)\")\n",
    "plt.show()"
   ]
  },
  {
   "cell_type": "code",
   "execution_count": null,
   "id": "ebb19584",
   "metadata": {},
   "outputs": [],
   "source": []
  },
  {
   "cell_type": "code",
   "execution_count": null,
   "id": "f13673cd",
   "metadata": {},
   "outputs": [],
   "source": []
  },
  {
   "cell_type": "markdown",
   "id": "a826326c",
   "metadata": {},
   "source": [
    "### Sentimental analysis with Transformers"
   ]
  },
  {
   "cell_type": "markdown",
   "id": "7f317d1f",
   "metadata": {},
   "source": [
    "Models from transformers module need pytorch or tensorflow to run. So make sure you have either of them installed. See more at https://huggingface.co/docs/transformers/index"
   ]
  },
  {
   "cell_type": "code",
   "execution_count": 79,
   "id": "e6eaac73",
   "metadata": {},
   "outputs": [],
   "source": [
    "from transformers import pipeline"
   ]
  },
  {
   "cell_type": "code",
   "execution_count": 80,
   "id": "7a43e252",
   "metadata": {},
   "outputs": [
    {
     "name": "stderr",
     "output_type": "stream",
     "text": [
      "No model was supplied, defaulted to distilbert-base-uncased-finetuned-sst-2-english (https://huggingface.co/distilbert-base-uncased-finetuned-sst-2-english)\n",
      "Some layers from the model checkpoint at distilbert-base-uncased-finetuned-sst-2-english were not used when initializing TFDistilBertForSequenceClassification: ['dropout_19']\n",
      "- This IS expected if you are initializing TFDistilBertForSequenceClassification from the checkpoint of a model trained on another task or with another architecture (e.g. initializing a BertForSequenceClassification model from a BertForPreTraining model).\n",
      "- This IS NOT expected if you are initializing TFDistilBertForSequenceClassification from the checkpoint of a model that you expect to be exactly identical (initializing a BertForSequenceClassification model from a BertForSequenceClassification model).\n",
      "Some layers of TFDistilBertForSequenceClassification were not initialized from the model checkpoint at distilbert-base-uncased-finetuned-sst-2-english and are newly initialized: ['dropout_39']\n",
      "You should probably TRAIN this model on a down-stream task to be able to use it for predictions and inference.\n"
     ]
    }
   ],
   "source": [
    "# use pretrained distilbert model\n",
    "sentiment_analysis = pipeline('sentiment-analysis')"
   ]
  },
  {
   "cell_type": "code",
   "execution_count": 81,
   "id": "67b7cf66",
   "metadata": {},
   "outputs": [
    {
     "name": "stdout",
     "output_type": "stream",
     "text": [
      "[{'label': 'POSITIVE', 'score': 0.9998743534088135}]\n",
      "[{'label': 'NEGATIVE', 'score': 0.9996669292449951}]\n"
     ]
    }
   ],
   "source": [
    "#test\n",
    "print(sentiment_analysis(\"This restaurant is awesome\"))\n",
    "print(sentiment_analysis(\"This restaurant is awful\"))"
   ]
  },
  {
   "cell_type": "markdown",
   "id": "256a71de",
   "metadata": {},
   "source": [
    "<b>predict sentiment for all the titles</b>\n",
    "\n",
    "For the Bert model, max size for input is 250. We'll need to cut the article into smaller chunks, then predict for each chunk and average out to get the final prediction for an article."
   ]
  },
  {
   "cell_type": "code",
   "execution_count": 84,
   "id": "fa613872",
   "metadata": {},
   "outputs": [],
   "source": [
    "res = sentiment_analysis(list(df.title))"
   ]
  },
  {
   "cell_type": "code",
   "execution_count": 86,
   "id": "6fca734b",
   "metadata": {
    "scrolled": true
   },
   "outputs": [
    {
     "data": {
      "text/html": [
       "<div>\n",
       "<style scoped>\n",
       "    .dataframe tbody tr th:only-of-type {\n",
       "        vertical-align: middle;\n",
       "    }\n",
       "\n",
       "    .dataframe tbody tr th {\n",
       "        vertical-align: top;\n",
       "    }\n",
       "\n",
       "    .dataframe thead th {\n",
       "        text-align: right;\n",
       "    }\n",
       "</style>\n",
       "<table border=\"1\" class=\"dataframe\">\n",
       "  <thead>\n",
       "    <tr style=\"text-align: right;\">\n",
       "      <th></th>\n",
       "      <th>title</th>\n",
       "      <th>label</th>\n",
       "      <th>score</th>\n",
       "    </tr>\n",
       "  </thead>\n",
       "  <tbody>\n",
       "    <tr>\n",
       "      <th>0</th>\n",
       "      <td>A hypothetical weather forecast for 2050 is co...</td>\n",
       "      <td>POSITIVE</td>\n",
       "      <td>0.971965</td>\n",
       "    </tr>\n",
       "    <tr>\n",
       "      <th>1</th>\n",
       "      <td>Filipinos are buying books to preserve the tru...</td>\n",
       "      <td>NEGATIVE</td>\n",
       "      <td>0.879084</td>\n",
       "    </tr>\n",
       "    <tr>\n",
       "      <th>2</th>\n",
       "      <td>Exclusive: Russians have visited Iran at least...</td>\n",
       "      <td>POSITIVE</td>\n",
       "      <td>0.797128</td>\n",
       "    </tr>\n",
       "    <tr>\n",
       "      <th>3</th>\n",
       "      <td>Mexico detains drug lord wanted by US as 14 ki...</td>\n",
       "      <td>NEGATIVE</td>\n",
       "      <td>0.980571</td>\n",
       "    </tr>\n",
       "    <tr>\n",
       "      <th>4</th>\n",
       "      <td>Ukraine's harvest becomes the new battlefield,...</td>\n",
       "      <td>NEGATIVE</td>\n",
       "      <td>0.979885</td>\n",
       "    </tr>\n",
       "    <tr>\n",
       "      <th>...</th>\n",
       "      <td>...</td>\n",
       "      <td>...</td>\n",
       "      <td>...</td>\n",
       "    </tr>\n",
       "    <tr>\n",
       "      <th>509</th>\n",
       "      <td>'Zombies 3' makes it hard to get fired up for ...</td>\n",
       "      <td>NEGATIVE</td>\n",
       "      <td>0.998956</td>\n",
       "    </tr>\n",
       "    <tr>\n",
       "      <th>510</th>\n",
       "      <td>Gwen Stefani accused of cultural appropriation...</td>\n",
       "      <td>NEGATIVE</td>\n",
       "      <td>0.990949</td>\n",
       "    </tr>\n",
       "    <tr>\n",
       "      <th>511</th>\n",
       "      <td>J-Hope of BTS debuts solo album 'Jack in the Box'</td>\n",
       "      <td>POSITIVE</td>\n",
       "      <td>0.989856</td>\n",
       "    </tr>\n",
       "    <tr>\n",
       "      <th>512</th>\n",
       "      <td>'Gremlins' director thinks Baby Yoda'was copie...</td>\n",
       "      <td>NEGATIVE</td>\n",
       "      <td>0.997793</td>\n",
       "    </tr>\n",
       "    <tr>\n",
       "      <th>513</th>\n",
       "      <td>'Abbott Elementary' is headed to San Diego Com...</td>\n",
       "      <td>NEGATIVE</td>\n",
       "      <td>0.922292</td>\n",
       "    </tr>\n",
       "  </tbody>\n",
       "</table>\n",
       "<p>514 rows × 3 columns</p>\n",
       "</div>"
      ],
      "text/plain": [
       "                                                 title     label     score\n",
       "0    A hypothetical weather forecast for 2050 is co...  POSITIVE  0.971965\n",
       "1    Filipinos are buying books to preserve the tru...  NEGATIVE  0.879084\n",
       "2    Exclusive: Russians have visited Iran at least...  POSITIVE  0.797128\n",
       "3    Mexico detains drug lord wanted by US as 14 ki...  NEGATIVE  0.980571\n",
       "4    Ukraine's harvest becomes the new battlefield,...  NEGATIVE  0.979885\n",
       "..                                                 ...       ...       ...\n",
       "509  'Zombies 3' makes it hard to get fired up for ...  NEGATIVE  0.998956\n",
       "510  Gwen Stefani accused of cultural appropriation...  NEGATIVE  0.990949\n",
       "511  J-Hope of BTS debuts solo album 'Jack in the Box'  POSITIVE  0.989856\n",
       "512  'Gremlins' director thinks Baby Yoda'was copie...  NEGATIVE  0.997793\n",
       "513  'Abbott Elementary' is headed to San Diego Com...  NEGATIVE  0.922292\n",
       "\n",
       "[514 rows x 3 columns]"
      ]
     },
     "execution_count": 86,
     "metadata": {},
     "output_type": "execute_result"
    }
   ],
   "source": [
    "df[\"label\"] = [r[\"label\"] for r in res]\n",
    "df[\"score\"] = [r[\"score\"] for r in res]\n",
    "df[[\"title\", \"label\",\"score\"]]"
   ]
  },
  {
   "cell_type": "code",
   "execution_count": 119,
   "id": "d8df2341",
   "metadata": {},
   "outputs": [
    {
     "data": {
      "text/plain": [
       "<seaborn.axisgrid.FacetGrid at 0x1d2110580c8>"
      ]
     },
     "execution_count": 119,
     "metadata": {},
     "output_type": "execute_result"
    },
    {
     "data": {
      "image/png": "[encoded data removed]",
      "text/plain": [
       "<Figure size 501.15x360 with 1 Axes>"
      ]
     },
     "metadata": {},
     "output_type": "display_data"
    }
   ],
   "source": [
    "# plot overall distribution\n",
    "sns.displot(df, x=\"label\", hue=\"label\",stat=\"probability\")"
   ]
  },
  {
   "cell_type": "markdown",
   "id": "c16b0436",
   "metadata": {},
   "source": [
    "<b>Plot number of negative/positive article over the last 10 days"
   ]
  },
  {
   "cell_type": "code",
   "execution_count": 113,
   "id": "0c323934",
   "metadata": {},
   "outputs": [],
   "source": [
    "# get article published in the last 10 days\n",
    "df_recent10 = df[(date.today() - df.publish_date) < timedelta(days=10)]"
   ]
  },
  {
   "cell_type": "code",
   "execution_count": 114,
   "id": "dc31880a",
   "metadata": {},
   "outputs": [
    {
     "data": {
      "text/html": [
       "<div>\n",
       "<style scoped>\n",
       "    .dataframe tbody tr th:only-of-type {\n",
       "        vertical-align: middle;\n",
       "    }\n",
       "\n",
       "    .dataframe tbody tr th {\n",
       "        vertical-align: top;\n",
       "    }\n",
       "\n",
       "    .dataframe thead th {\n",
       "        text-align: right;\n",
       "    }\n",
       "</style>\n",
       "<table border=\"1\" class=\"dataframe\">\n",
       "  <thead>\n",
       "    <tr style=\"text-align: right;\">\n",
       "      <th></th>\n",
       "      <th></th>\n",
       "      <th>article_id</th>\n",
       "      <th>title</th>\n",
       "      <th>href</th>\n",
       "      <th>newspaper</th>\n",
       "      <th>category</th>\n",
       "      <th>author_id</th>\n",
       "      <th>author_fullname</th>\n",
       "      <th>content</th>\n",
       "      <th>related_articles</th>\n",
       "      <th>sentimental</th>\n",
       "      <th>keywords</th>\n",
       "      <th>score</th>\n",
       "    </tr>\n",
       "    <tr>\n",
       "      <th>publish_date</th>\n",
       "      <th>label</th>\n",
       "      <th></th>\n",
       "      <th></th>\n",
       "      <th></th>\n",
       "      <th></th>\n",
       "      <th></th>\n",
       "      <th></th>\n",
       "      <th></th>\n",
       "      <th></th>\n",
       "      <th></th>\n",
       "      <th></th>\n",
       "      <th></th>\n",
       "      <th></th>\n",
       "    </tr>\n",
       "  </thead>\n",
       "  <tbody>\n",
       "    <tr>\n",
       "      <th rowspan=\"2\" valign=\"top\">2022-07-08</th>\n",
       "      <th>NEGATIVE</th>\n",
       "      <td>9</td>\n",
       "      <td>9</td>\n",
       "      <td>9</td>\n",
       "      <td>9</td>\n",
       "      <td>9</td>\n",
       "      <td>9</td>\n",
       "      <td>9</td>\n",
       "      <td>9</td>\n",
       "      <td>0</td>\n",
       "      <td>0</td>\n",
       "      <td>0</td>\n",
       "      <td>9</td>\n",
       "    </tr>\n",
       "    <tr>\n",
       "      <th>POSITIVE</th>\n",
       "      <td>2</td>\n",
       "      <td>2</td>\n",
       "      <td>2</td>\n",
       "      <td>2</td>\n",
       "      <td>2</td>\n",
       "      <td>2</td>\n",
       "      <td>2</td>\n",
       "      <td>2</td>\n",
       "      <td>0</td>\n",
       "      <td>0</td>\n",
       "      <td>0</td>\n",
       "      <td>2</td>\n",
       "    </tr>\n",
       "    <tr>\n",
       "      <th rowspan=\"2\" valign=\"top\">2022-07-09</th>\n",
       "      <th>NEGATIVE</th>\n",
       "      <td>1</td>\n",
       "      <td>1</td>\n",
       "      <td>1</td>\n",
       "      <td>1</td>\n",
       "      <td>1</td>\n",
       "      <td>1</td>\n",
       "      <td>1</td>\n",
       "      <td>1</td>\n",
       "      <td>0</td>\n",
       "      <td>0</td>\n",
       "      <td>0</td>\n",
       "      <td>1</td>\n",
       "    </tr>\n",
       "    <tr>\n",
       "      <th>POSITIVE</th>\n",
       "      <td>1</td>\n",
       "      <td>1</td>\n",
       "      <td>1</td>\n",
       "      <td>1</td>\n",
       "      <td>1</td>\n",
       "      <td>1</td>\n",
       "      <td>1</td>\n",
       "      <td>1</td>\n",
       "      <td>0</td>\n",
       "      <td>0</td>\n",
       "      <td>0</td>\n",
       "      <td>1</td>\n",
       "    </tr>\n",
       "    <tr>\n",
       "      <th>2022-07-10</th>\n",
       "      <th>NEGATIVE</th>\n",
       "      <td>1</td>\n",
       "      <td>1</td>\n",
       "      <td>1</td>\n",
       "      <td>1</td>\n",
       "      <td>1</td>\n",
       "      <td>1</td>\n",
       "      <td>1</td>\n",
       "      <td>1</td>\n",
       "      <td>0</td>\n",
       "      <td>0</td>\n",
       "      <td>0</td>\n",
       "      <td>1</td>\n",
       "    </tr>\n",
       "    <tr>\n",
       "      <th rowspan=\"2\" valign=\"top\">2022-07-11</th>\n",
       "      <th>NEGATIVE</th>\n",
       "      <td>6</td>\n",
       "      <td>6</td>\n",
       "      <td>6</td>\n",
       "      <td>6</td>\n",
       "      <td>6</td>\n",
       "      <td>6</td>\n",
       "      <td>6</td>\n",
       "      <td>6</td>\n",
       "      <td>0</td>\n",
       "      <td>0</td>\n",
       "      <td>0</td>\n",
       "      <td>6</td>\n",
       "    </tr>\n",
       "    <tr>\n",
       "      <th>POSITIVE</th>\n",
       "      <td>3</td>\n",
       "      <td>3</td>\n",
       "      <td>3</td>\n",
       "      <td>3</td>\n",
       "      <td>3</td>\n",
       "      <td>3</td>\n",
       "      <td>3</td>\n",
       "      <td>3</td>\n",
       "      <td>0</td>\n",
       "      <td>0</td>\n",
       "      <td>0</td>\n",
       "      <td>3</td>\n",
       "    </tr>\n",
       "    <tr>\n",
       "      <th rowspan=\"2\" valign=\"top\">2022-07-12</th>\n",
       "      <th>NEGATIVE</th>\n",
       "      <td>10</td>\n",
       "      <td>10</td>\n",
       "      <td>10</td>\n",
       "      <td>10</td>\n",
       "      <td>10</td>\n",
       "      <td>10</td>\n",
       "      <td>10</td>\n",
       "      <td>10</td>\n",
       "      <td>0</td>\n",
       "      <td>0</td>\n",
       "      <td>0</td>\n",
       "      <td>10</td>\n",
       "    </tr>\n",
       "    <tr>\n",
       "      <th>POSITIVE</th>\n",
       "      <td>2</td>\n",
       "      <td>2</td>\n",
       "      <td>2</td>\n",
       "      <td>2</td>\n",
       "      <td>2</td>\n",
       "      <td>2</td>\n",
       "      <td>2</td>\n",
       "      <td>2</td>\n",
       "      <td>0</td>\n",
       "      <td>0</td>\n",
       "      <td>0</td>\n",
       "      <td>2</td>\n",
       "    </tr>\n",
       "    <tr>\n",
       "      <th rowspan=\"2\" valign=\"top\">2022-07-13</th>\n",
       "      <th>NEGATIVE</th>\n",
       "      <td>10</td>\n",
       "      <td>10</td>\n",
       "      <td>10</td>\n",
       "      <td>10</td>\n",
       "      <td>10</td>\n",
       "      <td>10</td>\n",
       "      <td>10</td>\n",
       "      <td>10</td>\n",
       "      <td>0</td>\n",
       "      <td>0</td>\n",
       "      <td>0</td>\n",
       "      <td>10</td>\n",
       "    </tr>\n",
       "    <tr>\n",
       "      <th>POSITIVE</th>\n",
       "      <td>4</td>\n",
       "      <td>4</td>\n",
       "      <td>4</td>\n",
       "      <td>4</td>\n",
       "      <td>4</td>\n",
       "      <td>4</td>\n",
       "      <td>4</td>\n",
       "      <td>4</td>\n",
       "      <td>0</td>\n",
       "      <td>0</td>\n",
       "      <td>0</td>\n",
       "      <td>4</td>\n",
       "    </tr>\n",
       "    <tr>\n",
       "      <th rowspan=\"2\" valign=\"top\">2022-07-14</th>\n",
       "      <th>NEGATIVE</th>\n",
       "      <td>82</td>\n",
       "      <td>82</td>\n",
       "      <td>82</td>\n",
       "      <td>82</td>\n",
       "      <td>82</td>\n",
       "      <td>82</td>\n",
       "      <td>82</td>\n",
       "      <td>82</td>\n",
       "      <td>0</td>\n",
       "      <td>0</td>\n",
       "      <td>0</td>\n",
       "      <td>82</td>\n",
       "    </tr>\n",
       "    <tr>\n",
       "      <th>POSITIVE</th>\n",
       "      <td>29</td>\n",
       "      <td>29</td>\n",
       "      <td>29</td>\n",
       "      <td>29</td>\n",
       "      <td>29</td>\n",
       "      <td>29</td>\n",
       "      <td>29</td>\n",
       "      <td>29</td>\n",
       "      <td>0</td>\n",
       "      <td>0</td>\n",
       "      <td>0</td>\n",
       "      <td>29</td>\n",
       "    </tr>\n",
       "    <tr>\n",
       "      <th rowspan=\"2\" valign=\"top\">2022-07-15</th>\n",
       "      <th>NEGATIVE</th>\n",
       "      <td>75</td>\n",
       "      <td>75</td>\n",
       "      <td>75</td>\n",
       "      <td>75</td>\n",
       "      <td>75</td>\n",
       "      <td>75</td>\n",
       "      <td>75</td>\n",
       "      <td>75</td>\n",
       "      <td>0</td>\n",
       "      <td>0</td>\n",
       "      <td>0</td>\n",
       "      <td>75</td>\n",
       "    </tr>\n",
       "    <tr>\n",
       "      <th>POSITIVE</th>\n",
       "      <td>50</td>\n",
       "      <td>50</td>\n",
       "      <td>50</td>\n",
       "      <td>50</td>\n",
       "      <td>50</td>\n",
       "      <td>50</td>\n",
       "      <td>50</td>\n",
       "      <td>50</td>\n",
       "      <td>0</td>\n",
       "      <td>0</td>\n",
       "      <td>0</td>\n",
       "      <td>50</td>\n",
       "    </tr>\n",
       "    <tr>\n",
       "      <th rowspan=\"2\" valign=\"top\">2022-07-16</th>\n",
       "      <th>NEGATIVE</th>\n",
       "      <td>51</td>\n",
       "      <td>51</td>\n",
       "      <td>51</td>\n",
       "      <td>51</td>\n",
       "      <td>51</td>\n",
       "      <td>51</td>\n",
       "      <td>51</td>\n",
       "      <td>51</td>\n",
       "      <td>0</td>\n",
       "      <td>0</td>\n",
       "      <td>0</td>\n",
       "      <td>51</td>\n",
       "    </tr>\n",
       "    <tr>\n",
       "      <th>POSITIVE</th>\n",
       "      <td>12</td>\n",
       "      <td>12</td>\n",
       "      <td>12</td>\n",
       "      <td>12</td>\n",
       "      <td>12</td>\n",
       "      <td>12</td>\n",
       "      <td>12</td>\n",
       "      <td>12</td>\n",
       "      <td>0</td>\n",
       "      <td>0</td>\n",
       "      <td>0</td>\n",
       "      <td>12</td>\n",
       "    </tr>\n",
       "    <tr>\n",
       "      <th rowspan=\"2\" valign=\"top\">2022-07-17</th>\n",
       "      <th>NEGATIVE</th>\n",
       "      <td>14</td>\n",
       "      <td>14</td>\n",
       "      <td>14</td>\n",
       "      <td>14</td>\n",
       "      <td>14</td>\n",
       "      <td>14</td>\n",
       "      <td>14</td>\n",
       "      <td>14</td>\n",
       "      <td>0</td>\n",
       "      <td>0</td>\n",
       "      <td>0</td>\n",
       "      <td>14</td>\n",
       "    </tr>\n",
       "    <tr>\n",
       "      <th>POSITIVE</th>\n",
       "      <td>56</td>\n",
       "      <td>56</td>\n",
       "      <td>56</td>\n",
       "      <td>56</td>\n",
       "      <td>56</td>\n",
       "      <td>56</td>\n",
       "      <td>56</td>\n",
       "      <td>56</td>\n",
       "      <td>0</td>\n",
       "      <td>0</td>\n",
       "      <td>0</td>\n",
       "      <td>56</td>\n",
       "    </tr>\n",
       "  </tbody>\n",
       "</table>\n",
       "</div>"
      ],
      "text/plain": [
       "                       article_id  title  href  newspaper  category  \\\n",
       "publish_date label                                                    \n",
       "2022-07-08   NEGATIVE           9      9     9          9         9   \n",
       "             POSITIVE           2      2     2          2         2   \n",
       "2022-07-09   NEGATIVE           1      1     1          1         1   \n",
       "             POSITIVE           1      1     1          1         1   \n",
       "2022-07-10   NEGATIVE           1      1     1          1         1   \n",
       "2022-07-11   NEGATIVE           6      6     6          6         6   \n",
       "             POSITIVE           3      3     3          3         3   \n",
       "2022-07-12   NEGATIVE          10     10    10         10        10   \n",
       "             POSITIVE           2      2     2          2         2   \n",
       "2022-07-13   NEGATIVE          10     10    10         10        10   \n",
       "             POSITIVE           4      4     4          4         4   \n",
       "2022-07-14   NEGATIVE          82     82    82         82        82   \n",
       "             POSITIVE          29     29    29         29        29   \n",
       "2022-07-15   NEGATIVE          75     75    75         75        75   \n",
       "             POSITIVE          50     50    50         50        50   \n",
       "2022-07-16   NEGATIVE          51     51    51         51        51   \n",
       "             POSITIVE          12     12    12         12        12   \n",
       "2022-07-17   NEGATIVE          14     14    14         14        14   \n",
       "             POSITIVE          56     56    56         56        56   \n",
       "\n",
       "                       author_id  author_fullname  content  related_articles  \\\n",
       "publish_date label                                                             \n",
       "2022-07-08   NEGATIVE          9                9        9                 0   \n",
       "             POSITIVE          2                2        2                 0   \n",
       "2022-07-09   NEGATIVE          1                1        1                 0   \n",
       "             POSITIVE          1                1        1                 0   \n",
       "2022-07-10   NEGATIVE          1                1        1                 0   \n",
       "2022-07-11   NEGATIVE          6                6        6                 0   \n",
       "             POSITIVE          3                3        3                 0   \n",
       "2022-07-12   NEGATIVE         10               10       10                 0   \n",
       "             POSITIVE          2                2        2                 0   \n",
       "2022-07-13   NEGATIVE         10               10       10                 0   \n",
       "             POSITIVE          4                4        4                 0   \n",
       "2022-07-14   NEGATIVE         82               82       82                 0   \n",
       "             POSITIVE         29               29       29                 0   \n",
       "2022-07-15   NEGATIVE         75               75       75                 0   \n",
       "             POSITIVE         50               50       50                 0   \n",
       "2022-07-16   NEGATIVE         51               51       51                 0   \n",
       "             POSITIVE         12               12       12                 0   \n",
       "2022-07-17   NEGATIVE         14               14       14                 0   \n",
       "             POSITIVE         56               56       56                 0   \n",
       "\n",
       "                       sentimental  keywords  score  \n",
       "publish_date label                                   \n",
       "2022-07-08   NEGATIVE            0         0      9  \n",
       "             POSITIVE            0         0      2  \n",
       "2022-07-09   NEGATIVE            0         0      1  \n",
       "             POSITIVE            0         0      1  \n",
       "2022-07-10   NEGATIVE            0         0      1  \n",
       "2022-07-11   NEGATIVE            0         0      6  \n",
       "             POSITIVE            0         0      3  \n",
       "2022-07-12   NEGATIVE            0         0     10  \n",
       "             POSITIVE            0         0      2  \n",
       "2022-07-13   NEGATIVE            0         0     10  \n",
       "             POSITIVE            0         0      4  \n",
       "2022-07-14   NEGATIVE            0         0     82  \n",
       "             POSITIVE            0         0     29  \n",
       "2022-07-15   NEGATIVE            0         0     75  \n",
       "             POSITIVE            0         0     50  \n",
       "2022-07-16   NEGATIVE            0         0     51  \n",
       "             POSITIVE            0         0     12  \n",
       "2022-07-17   NEGATIVE            0         0     14  \n",
       "             POSITIVE            0         0     56  "
      ]
     },
     "execution_count": 114,
     "metadata": {},
     "output_type": "execute_result"
    }
   ],
   "source": [
    "df_agg = df_recent10.groupby([\"publish_date\",\"label\"]).count()\n",
    "df_agg"
   ]
  },
  {
   "cell_type": "code",
   "execution_count": null,
   "id": "3d292db8",
   "metadata": {},
   "outputs": [],
   "source": []
  },
  {
   "cell_type": "code",
   "execution_count": 122,
   "id": "a964058d",
   "metadata": {},
   "outputs": [
    {
     "data": {
      "text/plain": [
       "<seaborn.axisgrid.FacetGrid at 0x1d2127b3348>"
      ]
     },
     "execution_count": 122,
     "metadata": {},
     "output_type": "execute_result"
    },
    {
     "data": {
      "image/png": "[encoded data removed]",
      "text/plain": [
       "<Figure size 501.15x360 with 1 Axes>"
      ]
     },
     "metadata": {},
     "output_type": "display_data"
    }
   ],
   "source": [
    "plot = sns.relplot(x=\"publish_date\", y= \"article_id\", kind=\"line\", hue=\"label\", data=df_agg.reset_index())\n",
    "plot.set_xticklabels(rotation=90)"
   ]
  },
  {
   "cell_type": "markdown",
   "id": "fc65bdc5",
   "metadata": {},
   "source": [
    "<b>Plot distribution of neg/pos articles by category"
   ]
  },
  {
   "cell_type": "code",
   "execution_count": 92,
   "id": "7a11fbef",
   "metadata": {},
   "outputs": [
    {
     "data": {
      "text/plain": [
       "<seaborn.axisgrid.FacetGrid at 0x1d206ca4448>"
      ]
     },
     "execution_count": 92,
     "metadata": {},
     "output_type": "execute_result"
    },
    {
     "data": {
      "image/png": "[encoded data removed]",
      "text/plain": [
       "<Figure size 1221.15x1080 with 9 Axes>"
      ]
     },
     "metadata": {},
     "output_type": "display_data"
    }
   ],
   "source": [
    "sns.displot(df, x=\"label\", hue=\"label\",stat=\"probability\",col=\"category\",col_wrap=3)"
   ]
  },
  {
   "cell_type": "markdown",
   "id": "9a360089",
   "metadata": {},
   "source": [
    "Overview:\n",
    "- More negative than positive in both methods.\n",
    "- politics, business have same distribution"
   ]
  },
  {
   "cell_type": "code",
   "execution_count": null,
   "id": "3d556575",
   "metadata": {},
   "outputs": [],
   "source": []
  },
  {
   "cell_type": "code",
   "execution_count": null,
   "id": "f9b0d1db",
   "metadata": {},
   "outputs": [],
   "source": []
  },
  {
   "cell_type": "markdown",
   "id": "8ec78ce1",
   "metadata": {},
   "source": [
    "## Correlation between categories"
   ]
  },
  {
   "cell_type": "markdown",
   "id": "93e8fd1a",
   "metadata": {},
   "source": [
    "Some categories are correlated: Politics vs Business ..."
   ]
  },
  {
   "cell_type": "code",
   "execution_count": null,
   "id": "35667e5b",
   "metadata": {},
   "outputs": [],
   "source": []
  },
  {
   "cell_type": "markdown",
   "id": "6bd2d1c9",
   "metadata": {},
   "source": [
    "## TO-DO"
   ]
  },
  {
   "cell_type": "markdown",
   "id": "d7a378ec",
   "metadata": {},
   "source": [
    "- Named Entity Recognition: analysis of Entity frequency\n",
    "\n",
    "- Topic clustering:\n",
    "    - Based on related articles (urls refered in the content)\n",
    "    - Based on category + keyword similarity"
   ]
  },
  {
   "cell_type": "code",
   "execution_count": null,
   "id": "f79e0ceb",
   "metadata": {},
   "outputs": [],
   "source": []
  }
 ],
 "metadata": {
  "kernelspec": {
   "display_name": "Python 3 (ipykernel)",
   "language": "python",
   "name": "python3"
  },
  "language_info": {
   "codemirror_mode": {
    "name": "ipython",
    "version": 3
   },
   "file_extension": ".py",
   "mimetype": "text/x-python",
   "name": "python",
   "nbconvert_exporter": "python",
   "pygments_lexer": "ipython3",
   "version": "3.7.11"
  },
  "vscode": {
   "interpreter": {
    "hash": "093f6e4f87af30176b11494c35c1022b5c872cb7618c3d02592120903236ac61"
   }
  }
 },
 "nbformat": 4,
 "nbformat_minor": 5
}
